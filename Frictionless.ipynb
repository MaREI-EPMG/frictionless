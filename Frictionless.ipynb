{
  "nbformat": 4,
  "nbformat_minor": 0,
  "metadata": {
    "colab": {
      "name": "Frictionless.ipynb",
      "provenance": [],
      "authorship_tag": "ABX9TyNmj7pzKobmhMa0hXL/OFac",
      "include_colab_link": true
    },
    "kernelspec": {
      "name": "python3",
      "display_name": "Python 3"
    },
    "language_info": {
      "name": "python"
    }
  },
  "cells": [
    {
      "cell_type": "markdown",
      "metadata": {
        "id": "view-in-github",
        "colab_type": "text"
      },
      "source": [
        "<a href=\"https://colab.research.google.com/github/CiaraAOC/frictionless/blob/main/Frictionless.ipynb\" target=\"_parent\"><img src=\"https://colab.research.google.com/assets/colab-badge.svg\" alt=\"Open In Colab\"/></a>"
      ]
    },
    {
      "cell_type": "markdown",
      "metadata": {
        "id": "K7rT2qW1JsBq"
      },
      "source": [
        "\n",
        "Setup:"
      ]
    },
    {
      "cell_type": "code",
      "metadata": {
        "id": "B1L0V-NCJsOd",
        "colab": {
          "base_uri": "https://localhost:8080/"
        },
        "outputId": "ec6d4cc3-4f1a-4a4b-abb2-d623c2342d02"
      },
      "source": [
        "!pip install frictionless #install necessary modules and libraries\n",
        "import frictionless\n",
        "import pandas as pd\n",
        "from pprint import pprint\n"
      ],
      "execution_count": 136,
      "outputs": [
        {
          "output_type": "stream",
          "text": [
            "Requirement already satisfied: frictionless in /usr/local/lib/python3.7/dist-packages (4.14.0)\n",
            "Requirement already satisfied: petl>=1.6 in /usr/local/lib/python3.7/dist-packages (from frictionless) (1.7.4)\n",
            "Requirement already satisfied: click<7.2.0,>=7.1.1 in /usr/local/lib/python3.7/dist-packages (from frictionless) (7.1.2)\n",
            "Requirement already satisfied: python-dateutil>=2.8 in /usr/local/lib/python3.7/dist-packages (from frictionless) (2.8.1)\n",
            "Requirement already satisfied: chardet>=3.0 in /usr/local/lib/python3.7/dist-packages (from frictionless) (3.0.4)\n",
            "Requirement already satisfied: requests>=2.10 in /usr/local/lib/python3.7/dist-packages (from frictionless) (2.23.0)\n",
            "Requirement already satisfied: jsonschema>=2.5 in /usr/local/lib/python3.7/dist-packages (from frictionless) (2.6.0)\n",
            "Requirement already satisfied: stringcase>=1.2 in /usr/local/lib/python3.7/dist-packages (from frictionless) (1.2.0)\n",
            "Requirement already satisfied: validators>=0.18 in /usr/local/lib/python3.7/dist-packages (from frictionless) (0.18.2)\n",
            "Requirement already satisfied: rfc3986>=1.4 in /usr/local/lib/python3.7/dist-packages (from frictionless) (1.5.0)\n",
            "Requirement already satisfied: simpleeval>=0.9 in /usr/local/lib/python3.7/dist-packages (from frictionless) (0.9.10)\n",
            "Requirement already satisfied: python-slugify>=1.2 in /usr/local/lib/python3.7/dist-packages (from frictionless) (5.0.2)\n",
            "Requirement already satisfied: pyyaml>=5.3 in /usr/local/lib/python3.7/dist-packages (from frictionless) (5.4.1)\n",
            "Requirement already satisfied: isodate>=0.6 in /usr/local/lib/python3.7/dist-packages (from frictionless) (0.6.0)\n",
            "Requirement already satisfied: typer[all]>=0.3 in /usr/local/lib/python3.7/dist-packages (from frictionless) (0.3.2)\n",
            "Requirement already satisfied: six in /usr/local/lib/python3.7/dist-packages (from isodate>=0.6->frictionless) (1.15.0)\n",
            "Requirement already satisfied: text-unidecode>=1.3 in /usr/local/lib/python3.7/dist-packages (from python-slugify>=1.2->frictionless) (1.3)\n",
            "Requirement already satisfied: idna<3,>=2.5 in /usr/local/lib/python3.7/dist-packages (from requests>=2.10->frictionless) (2.10)\n",
            "Requirement already satisfied: urllib3!=1.25.0,!=1.25.1,<1.26,>=1.21.1 in /usr/local/lib/python3.7/dist-packages (from requests>=2.10->frictionless) (1.24.3)\n",
            "Requirement already satisfied: certifi>=2017.4.17 in /usr/local/lib/python3.7/dist-packages (from requests>=2.10->frictionless) (2021.5.30)\n",
            "Requirement already satisfied: colorama<0.5.0,>=0.4.3 in /usr/local/lib/python3.7/dist-packages (from typer[all]>=0.3->frictionless) (0.4.4)\n",
            "Requirement already satisfied: shellingham<2.0.0,>=1.3.0 in /usr/local/lib/python3.7/dist-packages (from typer[all]>=0.3->frictionless) (1.4.0)\n",
            "Requirement already satisfied: decorator>=3.4.0 in /usr/local/lib/python3.7/dist-packages (from validators>=0.18->frictionless) (4.4.2)\n"
          ],
          "name": "stdout"
        }
      ]
    },
    {
      "cell_type": "code",
      "metadata": {
        "id": "Sh83Ui0lQdW9",
        "colab": {
          "base_uri": "https://localhost:8080/"
        },
        "outputId": "579c96f9-747d-4f8d-cfb4-e0cc0e494114"
      },
      "source": [
        "import requests\n",
        "response = requests.get('https://ws.cso.ie/public/api.restful/PxStat.Data.Cube_API.PxAPIv1/en/6/TORTV/THA18')\n",
        "response.text\n",
        "print(response.status_code) #prints the status code of the API\n",
        "#a status code of 200 means the api is working\n",
        "#if the status code begins with a 4, there is an error"
      ],
      "execution_count": 137,
      "outputs": [
        {
          "output_type": "stream",
          "text": [
            "200\n"
          ],
          "name": "stdout"
        }
      ]
    },
    {
      "cell_type": "code",
      "metadata": {
        "id": "AsjpG0U3J2tB",
        "colab": {
          "base_uri": "https://localhost:8080/"
        },
        "outputId": "f1188a15-f5db-4cc0-fa86-2995abb3da68"
      },
      "source": [
        "df = pd.read_csv(\"https://ws.cso.ie/public/api.restful/PxStat.Data.Cube_API.PxAPIv1/en/6/TORTV/THA18\") #link to desired website table\n",
        "print(df)"
      ],
      "execution_count": 138,
      "outputs": [
        {
          "output_type": "stream",
          "text": [
            "Empty DataFrame\n",
            "Columns: [{\"title\":\"Road Traffic Volumes of Private Cars\", variables:[{\"code\":\"Statistic\", text:\"Road Traffic Volumes of Private Cars\", values:[\"THA18C01\", THA18C02, THA18C03], valueTexts:[\"Vehicle Population\", Kilometres Travelled, Average Kilometres Travelled], elimination:false}, {\"code\":\"TLIST(A1)\", text:\"Year\", values:[\"2015\", 2016, 2017, 2018, 2019], valueTexts:[\"2015\", 2016.1, 2017.1, 2018.1, 2019].1, elimination:false}.1, {\"code\":\"C02876V03463\", text:\"Type of Ownership\", values:[\"-\", 1, 2, 3], valueTexts:[\"All owners\", Company, Female, Male], elimination:false}.2, {\"code\":\"C01836V03462\", text:\"Engine Capacity cc\", values:[\"-\".1, 01, 02, 03, 04, 05, 06, 07], valueTexts:[\"All engine capacities\", Up to 1000 cc, 1001 - 1200 cc, 1201 - 1400 cc, 1401 - 1600 cc, 1601 - 1800 cc, 1801 - 2000 cc, Over 2000 cc], elimination:false}.3, {\"code\":\"C01841V02268\", text:\"Fuel Type\", values:[\"-\".2, 1.1, 2.1, 3].1, valueTexts:[\"All fuel types\", Petrol, Diesel, Other fuel types], elimination:false}.4, {\"code\":\"C02451V02968\", text:\"County of Ownership\", values:[\"-\".3, 01.1, 02.1, 03.1, 04.1, 05.1, 06.1, 07, 08, 09, 10, 11, 12, 13, 14, 15, 16, 17, 18, 19, 20, 21, 22, 23, 24, 25, 26], valueTexts:[\"All Counties\", Carlow, Dublin, Kildare, Kilkenny, Laois, Longford, ...]\n",
            "Index: []\n",
            "\n",
            "[0 rows x 168 columns]\n"
          ],
          "name": "stdout"
        }
      ]
    },
    {
      "cell_type": "markdown",
      "metadata": {
        "id": "GenUkRAaJsiY"
      },
      "source": [
        "Describing data:\n"
      ]
    },
    {
      "cell_type": "code",
      "metadata": {
        "id": "i7Kt0FlWJsrA",
        "colab": {
          "base_uri": "https://localhost:8080/"
        },
        "outputId": "52d35079-dffd-48bc-d215-a466eed51f9d"
      },
      "source": [
        "from frictionless import describe #generates metadata describing layout/contents of data\n",
        "\n",
        "resource = describe(df)\n",
        "pprint(resource)"
      ],
      "execution_count": 139,
      "outputs": [
        {
          "output_type": "stream",
          "text": [
            "{'data': Empty DataFrame\n",
            "Columns: [{\"title\":\"Road Traffic Volumes of Private Cars\", variables:[{\"code\":\"Statistic\", text:\"Road Traffic Volumes of Private Cars\", values:[\"THA18C01\", THA18C02, THA18C03], valueTexts:[\"Vehicle Population\", Kilometres Travelled, Average Kilometres Travelled], elimination:false}, {\"code\":\"TLIST(A1)\", text:\"Year\", values:[\"2015\", 2016, 2017, 2018, 2019], valueTexts:[\"2015\", 2016.1, 2017.1, 2018.1, 2019].1, elimination:false}.1, {\"code\":\"C02876V03463\", text:\"Type of Ownership\", values:[\"-\", 1, 2, 3], valueTexts:[\"All owners\", Company, Female, Male], elimination:false}.2, {\"code\":\"C01836V03462\", text:\"Engine Capacity cc\", values:[\"-\".1, 01, 02, 03, 04, 05, 06, 07], valueTexts:[\"All engine capacities\", Up to 1000 cc, 1001 - 1200 cc, 1201 - 1400 cc, 1401 - 1600 cc, 1601 - 1800 cc, 1801 - 2000 cc, Over 2000 cc], elimination:false}.3, {\"code\":\"C01841V02268\", text:\"Fuel Type\", values:[\"-\".2, 1.1, 2.1, 3].1, valueTexts:[\"All fuel types\", Petrol, Diesel, Other fuel types], elimination:false}.4, {\"code\":\"C02451V02968\", text:\"County of Ownership\", values:[\"-\".3, 01.1, 02.1, 03.1, 04.1, 05.1, 06.1, 07, 08, 09, 10, 11, 12, 13, 14, 15, 16, 17, 18, 19, 20, 21, 22, 23, 24, 25, 26], valueTexts:[\"All Counties\", Carlow, Dublin, Kildare, Kilkenny, Laois, Longford, ...]\n",
            "Index: []\n",
            "\n",
            "[0 rows x 168 columns],\n",
            " 'format': 'pandas',\n",
            " 'hashing': 'md5',\n",
            " 'layout': {'header': False},\n",
            " 'name': 'memory',\n",
            " 'profile': 'tabular-data-resource',\n",
            " 'schema': {'fields': [{'name': '{\"title\":\"Road Traffic Volumes of Private '\n",
            "                                'Cars\"',\n",
            "                        'type': 'string'},\n",
            "                       {'name': 'variables:[{\"code\":\"Statistic\"',\n",
            "                        'type': 'string'},\n",
            "                       {'name': 'text:\"Road Traffic Volumes of Private Cars\"',\n",
            "                        'type': 'string'},\n",
            "                       {'name': 'values:[\"THA18C01\"', 'type': 'string'},\n",
            "                       {'name': 'THA18C02', 'type': 'string'},\n",
            "                       {'name': 'THA18C03]', 'type': 'string'},\n",
            "                       {'name': 'valueTexts:[\"Vehicle Population\"',\n",
            "                        'type': 'string'},\n",
            "                       {'name': 'Kilometres Travelled', 'type': 'string'},\n",
            "                       {'name': 'Average Kilometres Travelled]',\n",
            "                        'type': 'string'},\n",
            "                       {'name': 'elimination:false}', 'type': 'string'},\n",
            "                       {'name': '{\"code\":\"TLIST(A1)\"', 'type': 'string'},\n",
            "                       {'name': 'text:\"Year\"', 'type': 'string'},\n",
            "                       {'name': 'values:[\"2015\"', 'type': 'string'},\n",
            "                       {'name': '2016', 'type': 'string'},\n",
            "                       {'name': '2017', 'type': 'string'},\n",
            "                       {'name': '2018', 'type': 'string'},\n",
            "                       {'name': '2019]', 'type': 'string'},\n",
            "                       {'name': 'valueTexts:[\"2015\"', 'type': 'string'},\n",
            "                       {'name': '2016.1', 'type': 'string'},\n",
            "                       {'name': '2017.1', 'type': 'string'},\n",
            "                       {'name': '2018.1', 'type': 'string'},\n",
            "                       {'name': '2019].1', 'type': 'string'},\n",
            "                       {'name': 'elimination:false}.1', 'type': 'string'},\n",
            "                       {'name': '{\"code\":\"C02876V03463\"', 'type': 'string'},\n",
            "                       {'name': 'text:\"Type of Ownership\"', 'type': 'string'},\n",
            "                       {'name': 'values:[\"-\"', 'type': 'string'},\n",
            "                       {'name': '1', 'type': 'string'},\n",
            "                       {'name': '2', 'type': 'string'},\n",
            "                       {'name': '3]', 'type': 'string'},\n",
            "                       {'name': 'valueTexts:[\"All owners\"', 'type': 'string'},\n",
            "                       {'name': 'Company', 'type': 'string'},\n",
            "                       {'name': 'Female', 'type': 'string'},\n",
            "                       {'name': 'Male]', 'type': 'string'},\n",
            "                       {'name': 'elimination:false}.2', 'type': 'string'},\n",
            "                       {'name': '{\"code\":\"C01836V03462\"', 'type': 'string'},\n",
            "                       {'name': 'text:\"Engine Capacity cc\"', 'type': 'string'},\n",
            "                       {'name': 'values:[\"-\".1', 'type': 'string'},\n",
            "                       {'name': '01', 'type': 'string'},\n",
            "                       {'name': '02', 'type': 'string'},\n",
            "                       {'name': '03', 'type': 'string'},\n",
            "                       {'name': '04', 'type': 'string'},\n",
            "                       {'name': '05', 'type': 'string'},\n",
            "                       {'name': '06', 'type': 'string'},\n",
            "                       {'name': '07]', 'type': 'string'},\n",
            "                       {'name': 'valueTexts:[\"All engine capacities\"',\n",
            "                        'type': 'string'},\n",
            "                       {'name': 'Up to 1000 cc', 'type': 'string'},\n",
            "                       {'name': '1001 - 1200 cc', 'type': 'string'},\n",
            "                       {'name': '1201 - 1400 cc', 'type': 'string'},\n",
            "                       {'name': '1401 - 1600 cc', 'type': 'string'},\n",
            "                       {'name': '1601 - 1800 cc', 'type': 'string'},\n",
            "                       {'name': '1801 - 2000 cc', 'type': 'string'},\n",
            "                       {'name': 'Over 2000 cc]', 'type': 'string'},\n",
            "                       {'name': 'elimination:false}.3', 'type': 'string'},\n",
            "                       {'name': '{\"code\":\"C01841V02268\"', 'type': 'string'},\n",
            "                       {'name': 'text:\"Fuel Type\"', 'type': 'string'},\n",
            "                       {'name': 'values:[\"-\".2', 'type': 'string'},\n",
            "                       {'name': '1.1', 'type': 'string'},\n",
            "                       {'name': '2.1', 'type': 'string'},\n",
            "                       {'name': '3].1', 'type': 'string'},\n",
            "                       {'name': 'valueTexts:[\"All fuel types\"',\n",
            "                        'type': 'string'},\n",
            "                       {'name': 'Petrol', 'type': 'string'},\n",
            "                       {'name': 'Diesel', 'type': 'string'},\n",
            "                       {'name': 'Other fuel types]', 'type': 'string'},\n",
            "                       {'name': 'elimination:false}.4', 'type': 'string'},\n",
            "                       {'name': '{\"code\":\"C02451V02968\"', 'type': 'string'},\n",
            "                       {'name': 'text:\"County of Ownership\"', 'type': 'string'},\n",
            "                       {'name': 'values:[\"-\".3', 'type': 'string'},\n",
            "                       {'name': '01.1', 'type': 'string'},\n",
            "                       {'name': '02.1', 'type': 'string'},\n",
            "                       {'name': '03.1', 'type': 'string'},\n",
            "                       {'name': '04.1', 'type': 'string'},\n",
            "                       {'name': '05.1', 'type': 'string'},\n",
            "                       {'name': '06.1', 'type': 'string'},\n",
            "                       {'name': '07', 'type': 'string'},\n",
            "                       {'name': '08', 'type': 'string'},\n",
            "                       {'name': '09', 'type': 'string'},\n",
            "                       {'name': '10', 'type': 'string'},\n",
            "                       {'name': '11', 'type': 'string'},\n",
            "                       {'name': '12', 'type': 'string'},\n",
            "                       {'name': '13', 'type': 'string'},\n",
            "                       {'name': '14', 'type': 'string'},\n",
            "                       {'name': '15', 'type': 'string'},\n",
            "                       {'name': '16', 'type': 'string'},\n",
            "                       {'name': '17', 'type': 'string'},\n",
            "                       {'name': '18', 'type': 'string'},\n",
            "                       {'name': '19', 'type': 'string'},\n",
            "                       {'name': '20', 'type': 'string'},\n",
            "                       {'name': '21', 'type': 'string'},\n",
            "                       {'name': '22', 'type': 'string'},\n",
            "                       {'name': '23', 'type': 'string'},\n",
            "                       {'name': '24', 'type': 'string'},\n",
            "                       {'name': '25', 'type': 'string'},\n",
            "                       {'name': '26]', 'type': 'string'},\n",
            "                       {'name': 'valueTexts:[\"All Counties\"', 'type': 'string'},\n",
            "                       {'name': 'Carlow', 'type': 'string'},\n",
            "                       {'name': 'Dublin', 'type': 'string'},\n",
            "                       {'name': 'Kildare', 'type': 'string'},\n",
            "                       {'name': 'Kilkenny', 'type': 'string'},\n",
            "                       {'name': 'Laois', 'type': 'string'},\n",
            "                       {'name': 'Longford', 'type': 'string'},\n",
            "                       {'name': 'Louth', 'type': 'string'},\n",
            "                       {'name': 'Meath', 'type': 'string'},\n",
            "                       {'name': 'Offaly', 'type': 'string'},\n",
            "                       {'name': 'Westmeath', 'type': 'string'},\n",
            "                       {'name': 'Wexford', 'type': 'string'},\n",
            "                       {'name': 'Wicklow', 'type': 'string'},\n",
            "                       {'name': 'Clare', 'type': 'string'},\n",
            "                       {'name': 'Cork', 'type': 'string'},\n",
            "                       {'name': 'Kerry', 'type': 'string'},\n",
            "                       {'name': 'Limerick', 'type': 'string'},\n",
            "                       {'name': 'Tipperary', 'type': 'string'},\n",
            "                       {'name': 'Waterford', 'type': 'string'},\n",
            "                       {'name': 'Galway', 'type': 'string'},\n",
            "                       {'name': 'Leitrim', 'type': 'string'},\n",
            "                       {'name': 'Mayo', 'type': 'string'},\n",
            "                       {'name': 'Roscommon', 'type': 'string'},\n",
            "                       {'name': 'Sligo', 'type': 'string'},\n",
            "                       {'name': 'Cavan', 'type': 'string'},\n",
            "                       {'name': 'Donegal', 'type': 'string'},\n",
            "                       {'name': 'Monaghan]', 'type': 'string'},\n",
            "                       {'name': 'elimination:false}.5', 'type': 'string'},\n",
            "                       {'name': '{\"code\":\"C01936V02368\"', 'type': 'string'},\n",
            "                       {'name': 'text:\"Year of Registration\"',\n",
            "                        'type': 'string'},\n",
            "                       {'name': 'values:[\"-\".4', 'type': 'string'},\n",
            "                       {'name': '19991', 'type': 'string'},\n",
            "                       {'name': '2000', 'type': 'string'},\n",
            "                       {'name': '2001', 'type': 'string'},\n",
            "                       {'name': '2002', 'type': 'string'},\n",
            "                       {'name': '2003', 'type': 'string'},\n",
            "                       {'name': '2004', 'type': 'string'},\n",
            "                       {'name': '2005', 'type': 'string'},\n",
            "                       {'name': '2006', 'type': 'string'},\n",
            "                       {'name': '2007', 'type': 'string'},\n",
            "                       {'name': '2008', 'type': 'string'},\n",
            "                       {'name': '2009', 'type': 'string'},\n",
            "                       {'name': '2010', 'type': 'string'},\n",
            "                       {'name': '2011', 'type': 'string'},\n",
            "                       {'name': '2012', 'type': 'string'},\n",
            "                       {'name': '2013', 'type': 'string'},\n",
            "                       {'name': '2014', 'type': 'string'},\n",
            "                       {'name': '2015', 'type': 'string'},\n",
            "                       {'name': '2016.2', 'type': 'string'},\n",
            "                       {'name': '2017.2', 'type': 'string'},\n",
            "                       {'name': '2018.2', 'type': 'string'},\n",
            "                       {'name': '2019].2', 'type': 'string'},\n",
            "                       {'name': 'valueTexts:[\"All years\"', 'type': 'string'},\n",
            "                       {'name': '1999 or before', 'type': 'string'},\n",
            "                       {'name': '2000.1', 'type': 'string'},\n",
            "                       {'name': '2001.1', 'type': 'string'},\n",
            "                       {'name': '2002.1', 'type': 'string'},\n",
            "                       {'name': '2003.1', 'type': 'string'},\n",
            "                       {'name': '2004.1', 'type': 'string'},\n",
            "                       {'name': '2005.1', 'type': 'string'},\n",
            "                       {'name': '2006.1', 'type': 'string'},\n",
            "                       {'name': '2007.1', 'type': 'string'},\n",
            "                       {'name': '2008.1', 'type': 'string'},\n",
            "                       {'name': '2009.1', 'type': 'string'},\n",
            "                       {'name': '2010.1', 'type': 'string'},\n",
            "                       {'name': '2011.1', 'type': 'string'},\n",
            "                       {'name': '2012.1', 'type': 'string'},\n",
            "                       {'name': '2013.1', 'type': 'string'},\n",
            "                       {'name': '2014.1', 'type': 'string'},\n",
            "                       {'name': '2015.1', 'type': 'string'},\n",
            "                       {'name': '2016.3', 'type': 'string'},\n",
            "                       {'name': '2017.3', 'type': 'string'},\n",
            "                       {'name': '2018.3', 'type': 'string'},\n",
            "                       {'name': '2019].3', 'type': 'string'},\n",
            "                       {'name': 'elimination:false}]}', 'type': 'string'}]},\n",
            " 'scheme': ''}\n"
          ],
          "name": "stdout"
        }
      ]
    },
    {
      "cell_type": "markdown",
      "metadata": {
        "id": "hkUR0xutJtGa"
      },
      "source": [
        "Extracting Data:\n"
      ]
    },
    {
      "cell_type": "code",
      "metadata": {
        "id": "3Bt1z3g0Jteo",
        "colab": {
          "base_uri": "https://localhost:8080/"
        },
        "outputId": "3e2b0924-e32f-4b4d-f629-cc079a6041d6"
      },
      "source": [
        "from frictionless import extract #read and normalise data\n",
        "\n",
        "rows = extract(df)\n",
        "pprint(rows)"
      ],
      "execution_count": 140,
      "outputs": [
        {
          "output_type": "stream",
          "text": [
            "[{'01': '01',\n",
            "  '01.1': '01.1',\n",
            "  '02': '02',\n",
            "  '02.1': '02.1',\n",
            "  '03': '03',\n",
            "  '03.1': '03.1',\n",
            "  '04': '04',\n",
            "  '04.1': '04.1',\n",
            "  '05': '05',\n",
            "  '05.1': '05.1',\n",
            "  '06': '06',\n",
            "  '06.1': '06.1',\n",
            "  '07': '07',\n",
            "  '07]': '07]',\n",
            "  '08': '08',\n",
            "  '09': '09',\n",
            "  '1': '1',\n",
            "  '1.1': '1.1',\n",
            "  '10': '10',\n",
            "  '1001 - 1200 cc': '1001 - 1200 cc',\n",
            "  '11': '11',\n",
            "  '12': '12',\n",
            "  '1201 - 1400 cc': '1201 - 1400 cc',\n",
            "  '13': '13',\n",
            "  '14': '14',\n",
            "  '1401 - 1600 cc': '1401 - 1600 cc',\n",
            "  '15': '15',\n",
            "  '16': '16',\n",
            "  '1601 - 1800 cc': '1601 - 1800 cc',\n",
            "  '17': '17',\n",
            "  '18': '18',\n",
            "  '1801 - 2000 cc': '1801 - 2000 cc',\n",
            "  '19': '19',\n",
            "  '1999 or before': '1999 or before',\n",
            "  '19991': '19991',\n",
            "  '2': '2',\n",
            "  '2.1': '2.1',\n",
            "  '20': '20',\n",
            "  '2000': '2000',\n",
            "  '2000.1': '2000.1',\n",
            "  '2001': '2001',\n",
            "  '2001.1': '2001.1',\n",
            "  '2002': '2002',\n",
            "  '2002.1': '2002.1',\n",
            "  '2003': '2003',\n",
            "  '2003.1': '2003.1',\n",
            "  '2004': '2004',\n",
            "  '2004.1': '2004.1',\n",
            "  '2005': '2005',\n",
            "  '2005.1': '2005.1',\n",
            "  '2006': '2006',\n",
            "  '2006.1': '2006.1',\n",
            "  '2007': '2007',\n",
            "  '2007.1': '2007.1',\n",
            "  '2008': '2008',\n",
            "  '2008.1': '2008.1',\n",
            "  '2009': '2009',\n",
            "  '2009.1': '2009.1',\n",
            "  '2010': '2010',\n",
            "  '2010.1': '2010.1',\n",
            "  '2011': '2011',\n",
            "  '2011.1': '2011.1',\n",
            "  '2012': '2012',\n",
            "  '2012.1': '2012.1',\n",
            "  '2013': '2013',\n",
            "  '2013.1': '2013.1',\n",
            "  '2014': '2014',\n",
            "  '2014.1': '2014.1',\n",
            "  '2015': '2015',\n",
            "  '2015.1': '2015.1',\n",
            "  '2016': '2016',\n",
            "  '2016.1': '2016.1',\n",
            "  '2016.2': '2016.2',\n",
            "  '2016.3': '2016.3',\n",
            "  '2017': '2017',\n",
            "  '2017.1': '2017.1',\n",
            "  '2017.2': '2017.2',\n",
            "  '2017.3': '2017.3',\n",
            "  '2018': '2018',\n",
            "  '2018.1': '2018.1',\n",
            "  '2018.2': '2018.2',\n",
            "  '2018.3': '2018.3',\n",
            "  '2019]': '2019]',\n",
            "  '2019].1': '2019].1',\n",
            "  '2019].2': '2019].2',\n",
            "  '2019].3': '2019].3',\n",
            "  '21': '21',\n",
            "  '22': '22',\n",
            "  '23': '23',\n",
            "  '24': '24',\n",
            "  '25': '25',\n",
            "  '26]': '26]',\n",
            "  '3]': '3]',\n",
            "  '3].1': '3].1',\n",
            "  'Average Kilometres Travelled]': 'Average Kilometres Travelled]',\n",
            "  'Carlow': 'Carlow',\n",
            "  'Cavan': 'Cavan',\n",
            "  'Clare': 'Clare',\n",
            "  'Company': 'Company',\n",
            "  'Cork': 'Cork',\n",
            "  'Diesel': 'Diesel',\n",
            "  'Donegal': 'Donegal',\n",
            "  'Dublin': 'Dublin',\n",
            "  'Female': 'Female',\n",
            "  'Galway': 'Galway',\n",
            "  'Kerry': 'Kerry',\n",
            "  'Kildare': 'Kildare',\n",
            "  'Kilkenny': 'Kilkenny',\n",
            "  'Kilometres Travelled': 'Kilometres Travelled',\n",
            "  'Laois': 'Laois',\n",
            "  'Leitrim': 'Leitrim',\n",
            "  'Limerick': 'Limerick',\n",
            "  'Longford': 'Longford',\n",
            "  'Louth': 'Louth',\n",
            "  'Male]': 'Male]',\n",
            "  'Mayo': 'Mayo',\n",
            "  'Meath': 'Meath',\n",
            "  'Monaghan]': 'Monaghan]',\n",
            "  'Offaly': 'Offaly',\n",
            "  'Other fuel types]': 'Other fuel types]',\n",
            "  'Over 2000 cc]': 'Over 2000 cc]',\n",
            "  'Petrol': 'Petrol',\n",
            "  'Roscommon': 'Roscommon',\n",
            "  'Sligo': 'Sligo',\n",
            "  'THA18C02': 'THA18C02',\n",
            "  'THA18C03]': 'THA18C03]',\n",
            "  'Tipperary': 'Tipperary',\n",
            "  'Up to 1000 cc': 'Up to 1000 cc',\n",
            "  'Waterford': 'Waterford',\n",
            "  'Westmeath': 'Westmeath',\n",
            "  'Wexford': 'Wexford',\n",
            "  'Wicklow': 'Wicklow',\n",
            "  'elimination:false}': 'elimination:false}',\n",
            "  'elimination:false}.1': 'elimination:false}.1',\n",
            "  'elimination:false}.2': 'elimination:false}.2',\n",
            "  'elimination:false}.3': 'elimination:false}.3',\n",
            "  'elimination:false}.4': 'elimination:false}.4',\n",
            "  'elimination:false}.5': 'elimination:false}.5',\n",
            "  'elimination:false}]}': 'elimination:false}]}',\n",
            "  'text:\"County of Ownership\"': 'text:\"County of Ownership\"',\n",
            "  'text:\"Engine Capacity cc\"': 'text:\"Engine Capacity cc\"',\n",
            "  'text:\"Fuel Type\"': 'text:\"Fuel Type\"',\n",
            "  'text:\"Road Traffic Volumes of Private Cars\"': 'text:\"Road Traffic Volumes '\n",
            "                                                 'of Private Cars\"',\n",
            "  'text:\"Type of Ownership\"': 'text:\"Type of Ownership\"',\n",
            "  'text:\"Year of Registration\"': 'text:\"Year of Registration\"',\n",
            "  'text:\"Year\"': 'text:\"Year\"',\n",
            "  'valueTexts:[\"2015\"': 'valueTexts:[\"2015\"',\n",
            "  'valueTexts:[\"All Counties\"': 'valueTexts:[\"All Counties\"',\n",
            "  'valueTexts:[\"All engine capacities\"': 'valueTexts:[\"All engine capacities\"',\n",
            "  'valueTexts:[\"All fuel types\"': 'valueTexts:[\"All fuel types\"',\n",
            "  'valueTexts:[\"All owners\"': 'valueTexts:[\"All owners\"',\n",
            "  'valueTexts:[\"All years\"': 'valueTexts:[\"All years\"',\n",
            "  'valueTexts:[\"Vehicle Population\"': 'valueTexts:[\"Vehicle Population\"',\n",
            "  'values:[\"-\"': 'values:[\"-\"',\n",
            "  'values:[\"-\".1': 'values:[\"-\".1',\n",
            "  'values:[\"-\".2': 'values:[\"-\".2',\n",
            "  'values:[\"-\".3': 'values:[\"-\".3',\n",
            "  'values:[\"-\".4': 'values:[\"-\".4',\n",
            "  'values:[\"2015\"': 'values:[\"2015\"',\n",
            "  'values:[\"THA18C01\"': 'values:[\"THA18C01\"',\n",
            "  'variables:[{\"code\":\"Statistic\"': 'variables:[{\"code\":\"Statistic\"',\n",
            "  '{\"code\":\"C01836V03462\"': '{\"code\":\"C01836V03462\"',\n",
            "  '{\"code\":\"C01841V02268\"': '{\"code\":\"C01841V02268\"',\n",
            "  '{\"code\":\"C01936V02368\"': '{\"code\":\"C01936V02368\"',\n",
            "  '{\"code\":\"C02451V02968\"': '{\"code\":\"C02451V02968\"',\n",
            "  '{\"code\":\"C02876V03463\"': '{\"code\":\"C02876V03463\"',\n",
            "  '{\"code\":\"TLIST(A1)\"': '{\"code\":\"TLIST(A1)\"',\n",
            "  '{\"title\":\"Road Traffic Volumes of Private Cars\"': '{\"title\":\"Road Traffic '\n",
            "                                                     'Volumes of Private '\n",
            "                                                     'Cars\"'}]\n"
          ],
          "name": "stdout"
        }
      ]
    },
    {
      "cell_type": "markdown",
      "metadata": {
        "id": "CplRrIOhKL6r"
      },
      "source": [
        "Validating Data:\n"
      ]
    },
    {
      "cell_type": "code",
      "metadata": {
        "id": "987NMkqMKP8x",
        "colab": {
          "base_uri": "https://localhost:8080/"
        },
        "outputId": "acb27104-7d1d-4fe1-c98e-326b5b6ccef2"
      },
      "source": [
        "from frictionless import validate #detects errors in the file\n",
        "\n",
        "report = validate(\"https://ws.cso.ie/public/api.restful/PxStat.Data.Cube_API.PxAPIv1/en/6/TORTV/THA18\")\n",
        "pprint(report.task.scope)"
      ],
      "execution_count": 141,
      "outputs": [
        {
          "output_type": "stream",
          "text": [
            "['hash-count-error',\n",
            " 'byte-count-error',\n",
            " 'field-count-error',\n",
            " 'row-count-error',\n",
            " 'blank-header',\n",
            " 'extra-label',\n",
            " 'missing-label',\n",
            " 'blank-label',\n",
            " 'duplicate-label',\n",
            " 'incorrect-label',\n",
            " 'blank-row',\n",
            " 'primary-key-error',\n",
            " 'foreign-key-error',\n",
            " 'extra-cell',\n",
            " 'missing-cell',\n",
            " 'type-error',\n",
            " 'constraint-error',\n",
            " 'unique-error']\n"
          ],
          "name": "stdout"
        }
      ]
    },
    {
      "cell_type": "code",
      "metadata": {
        "id": "mJZlqzRHKV1I"
      },
      "source": [
        "from frictionless import Resource, FrictionlessException\n",
        "\n",
        "try:\n",
        "    resource = Resource(df)\n",
        "except FrictionlessException as exception:\n",
        "    pprint(exception.error)\n",
        "    # Prints the SchemaError metadata in this case"
      ],
      "execution_count": 142,
      "outputs": []
    },
    {
      "cell_type": "code",
      "metadata": {
        "id": "D1t15ic3KZYk"
      },
      "source": [
        "from frictionless import Check, errors\n",
        "\n",
        "class duplicate_row(Check):\n",
        "    code = \"duplicate-row\"\n",
        "    Errors = [errors.DuplicateRowError]\n",
        "\n",
        "    def __init__(self, descriptor=None):\n",
        "        super().__init__(descriptor)\n",
        "        self.__memory = {}\n",
        "\n",
        "    def validate_row(self, row):\n",
        "        text = \",\".join(map(str, row.values()))\n",
        "        hash = hashlib.sha256(text.encode(\"utf-8\")).hexdigest()\n",
        "        match = self.__memory.get(hash)\n",
        "        if match:\n",
        "            note = 'the same as row at position \"%s\"' % match\n",
        "            yield errors.DuplicateRowError.from_row(row, note=note)\n",
        "        self.__memory[hash] = row.row_position\n",
        "\n",
        "    # Metadata\n",
        "\n",
        "    metadata_profile = {  # type: ignore\n",
        "        \"type\": \"object\",\n",
        "        \"properties\": {},\n",
        "    }"
      ],
      "execution_count": 143,
      "outputs": []
    },
    {
      "cell_type": "code",
      "metadata": {
        "colab": {
          "base_uri": "https://localhost:8080/"
        },
        "id": "2sI2dwyeB33x",
        "outputId": "4ad8f3cf-ff47-46f1-9cf3-f25b2bcdcca3"
      },
      "source": [
        "from pprint import pprint\n",
        "from frictionless import validate, checks\n",
        "\n",
        "checks = [checks.sequential_value(field_name='Statistic')]\n",
        "report = validate('capital-invalid.csv', checks=checks)\n",
        "pprint(report.flatten([\"rowPosition\", \"fieldPosition\", \"code\", \"note\"]))"
      ],
      "execution_count": 144,
      "outputs": [
        {
          "output_type": "stream",
          "text": [
            "[[None,\n",
            "  None,\n",
            "  'scheme-error',\n",
            "  \"[Errno 2] No such file or directory: 'capital-invalid.csv'\"]]\n"
          ],
          "name": "stdout"
        }
      ]
    },
    {
      "cell_type": "markdown",
      "metadata": {
        "id": "eDyzCJVOK26I"
      },
      "source": [
        "**Transforming Data:**\n",
        "\n"
      ]
    },
    {
      "cell_type": "code",
      "metadata": {
        "id": "TtviaF1cY8rG",
        "colab": {
          "base_uri": "https://localhost:8080/"
        },
        "outputId": "fd692025-3a61-4e11-e4b9-1d0d24f27aff"
      },
      "source": [
        "print(df)"
      ],
      "execution_count": 145,
      "outputs": [
        {
          "output_type": "stream",
          "text": [
            "Empty DataFrame\n",
            "Columns: [{\"title\":\"Road Traffic Volumes of Private Cars\", variables:[{\"code\":\"Statistic\", text:\"Road Traffic Volumes of Private Cars\", values:[\"THA18C01\", THA18C02, THA18C03], valueTexts:[\"Vehicle Population\", Kilometres Travelled, Average Kilometres Travelled], elimination:false}, {\"code\":\"TLIST(A1)\", text:\"Year\", values:[\"2015\", 2016, 2017, 2018, 2019], valueTexts:[\"2015\", 2016.1, 2017.1, 2018.1, 2019].1, elimination:false}.1, {\"code\":\"C02876V03463\", text:\"Type of Ownership\", values:[\"-\", 1, 2, 3], valueTexts:[\"All owners\", Company, Female, Male], elimination:false}.2, {\"code\":\"C01836V03462\", text:\"Engine Capacity cc\", values:[\"-\".1, 01, 02, 03, 04, 05, 06, 07], valueTexts:[\"All engine capacities\", Up to 1000 cc, 1001 - 1200 cc, 1201 - 1400 cc, 1401 - 1600 cc, 1601 - 1800 cc, 1801 - 2000 cc, Over 2000 cc], elimination:false}.3, {\"code\":\"C01841V02268\", text:\"Fuel Type\", values:[\"-\".2, 1.1, 2.1, 3].1, valueTexts:[\"All fuel types\", Petrol, Diesel, Other fuel types], elimination:false}.4, {\"code\":\"C02451V02968\", text:\"County of Ownership\", values:[\"-\".3, 01.1, 02.1, 03.1, 04.1, 05.1, 06.1, 07, 08, 09, 10, 11, 12, 13, 14, 15, 16, 17, 18, 19, 20, 21, 22, 23, 24, 25, 26], valueTexts:[\"All Counties\", Carlow, Dublin, Kildare, Kilkenny, Laois, Longford, ...]\n",
            "Index: []\n",
            "\n",
            "[0 rows x 168 columns]\n"
          ],
          "name": "stdout"
        }
      ]
    },
    {
      "cell_type": "code",
      "metadata": {
        "id": "UbwnRIQdLFca",
        "colab": {
          "base_uri": "https://localhost:8080/",
          "height": 402
        },
        "outputId": "10f156ee-4152-4ae6-9234-7710afee5824"
      },
      "source": [
        "from frictionless import Resource, transform, steps\n",
        "\n",
        "# Define source resource\n",
        "source = Package([Resource(name='main', path=\"https://ws.cso.ie/public/api.restful/PxStat.Data.Cube_API.PxAPIv1/en/6/TORTV/THA18\")])\n",
        "\n",
        "# Apply transform steps\n",
        "target = transform(\n",
        "    source,\n",
        "    steps=[\n",
        "        steps.table_normalize()\n",
        "    ],\n",
        ")\n",
        "\n",
        "# Print resulting schema and data\n",
        "#pprint(target.schema)\n",
        "print(target)\n",
        "print(target.data)\n",
        "#pprint(source.read_lists())\n",
        "pprint(target.resource_names)\n"
      ],
      "execution_count": 146,
      "outputs": [
        {
          "output_type": "error",
          "ename": "FrictionlessException",
          "evalue": "ignored",
          "traceback": [
            "\u001b[0;31m---------------------------------------------------------------------------\u001b[0m",
            "\u001b[0;31mFrictionlessException\u001b[0m                     Traceback (most recent call last)",
            "\u001b[0;32m<ipython-input-146-f5d73c0448b5>\u001b[0m in \u001b[0;36m<module>\u001b[0;34m()\u001b[0m\n\u001b[1;32m      8\u001b[0m     \u001b[0msource\u001b[0m\u001b[0;34m,\u001b[0m\u001b[0;34m\u001b[0m\u001b[0;34m\u001b[0m\u001b[0m\n\u001b[1;32m      9\u001b[0m     steps=[\n\u001b[0;32m---> 10\u001b[0;31m         \u001b[0msteps\u001b[0m\u001b[0;34m.\u001b[0m\u001b[0mtable_normalize\u001b[0m\u001b[0;34m(\u001b[0m\u001b[0;34m)\u001b[0m\u001b[0;34m\u001b[0m\u001b[0;34m\u001b[0m\u001b[0m\n\u001b[0m\u001b[1;32m     11\u001b[0m     ],\n\u001b[1;32m     12\u001b[0m )\n",
            "\u001b[0;32m/usr/local/lib/python3.7/dist-packages/frictionless/transform/main.py\u001b[0m in \u001b[0;36mtransform\u001b[0;34m(source, type, **options)\u001b[0m\n\u001b[1;32m     33\u001b[0m         \u001b[0mnote\u001b[0m \u001b[0;34m=\u001b[0m \u001b[0;34mf\"Not supported transform type: {type}\"\u001b[0m\u001b[0;34m\u001b[0m\u001b[0;34m\u001b[0m\u001b[0m\n\u001b[1;32m     34\u001b[0m         \u001b[0;32mraise\u001b[0m \u001b[0mFrictionlessException\u001b[0m\u001b[0;34m(\u001b[0m\u001b[0merrors\u001b[0m\u001b[0;34m.\u001b[0m\u001b[0mGeneralError\u001b[0m\u001b[0;34m(\u001b[0m\u001b[0mnote\u001b[0m\u001b[0;34m=\u001b[0m\u001b[0mnote\u001b[0m\u001b[0;34m)\u001b[0m\u001b[0;34m)\u001b[0m\u001b[0;34m\u001b[0m\u001b[0;34m\u001b[0m\u001b[0m\n\u001b[0;32m---> 35\u001b[0;31m     \u001b[0;32mreturn\u001b[0m \u001b[0mtransform\u001b[0m\u001b[0;34m(\u001b[0m\u001b[0msource\u001b[0m\u001b[0;34m,\u001b[0m \u001b[0;34m**\u001b[0m\u001b[0moptions\u001b[0m\u001b[0;34m)\u001b[0m\u001b[0;34m\u001b[0m\u001b[0;34m\u001b[0m\u001b[0m\n\u001b[0m",
            "\u001b[0;32m/usr/local/lib/python3.7/dist-packages/frictionless/transform/package.py\u001b[0m in \u001b[0;36mtransform_package\u001b[0;34m(source, steps, **options)\u001b[0m\n\u001b[1;32m     27\u001b[0m     \u001b[0mnative\u001b[0m \u001b[0;34m=\u001b[0m \u001b[0misinstance\u001b[0m\u001b[0;34m(\u001b[0m\u001b[0msource\u001b[0m\u001b[0;34m,\u001b[0m \u001b[0mPackage\u001b[0m\u001b[0;34m)\u001b[0m\u001b[0;34m\u001b[0m\u001b[0;34m\u001b[0m\u001b[0m\n\u001b[1;32m     28\u001b[0m     \u001b[0mpackage\u001b[0m \u001b[0;34m=\u001b[0m \u001b[0msource\u001b[0m\u001b[0;34m.\u001b[0m\u001b[0mto_copy\u001b[0m\u001b[0;34m(\u001b[0m\u001b[0;34m)\u001b[0m \u001b[0;32mif\u001b[0m \u001b[0mnative\u001b[0m \u001b[0;32melse\u001b[0m \u001b[0mPackage\u001b[0m\u001b[0;34m(\u001b[0m\u001b[0msource\u001b[0m\u001b[0;34m,\u001b[0m \u001b[0;34m**\u001b[0m\u001b[0moptions\u001b[0m\u001b[0;34m)\u001b[0m\u001b[0;34m\u001b[0m\u001b[0;34m\u001b[0m\u001b[0m\n\u001b[0;32m---> 29\u001b[0;31m     \u001b[0mpackage\u001b[0m\u001b[0;34m.\u001b[0m\u001b[0minfer\u001b[0m\u001b[0;34m(\u001b[0m\u001b[0;34m)\u001b[0m\u001b[0;34m\u001b[0m\u001b[0;34m\u001b[0m\u001b[0m\n\u001b[0m\u001b[1;32m     30\u001b[0m \u001b[0;34m\u001b[0m\u001b[0m\n\u001b[1;32m     31\u001b[0m     \u001b[0;31m# Prepare steps\u001b[0m\u001b[0;34m\u001b[0m\u001b[0;34m\u001b[0m\u001b[0;34m\u001b[0m\u001b[0m\n",
            "\u001b[0;32m/usr/local/lib/python3.7/dist-packages/frictionless/package.py\u001b[0m in \u001b[0;36minfer\u001b[0;34m(self, stats)\u001b[0m\n\u001b[1;32m    447\u001b[0m         \u001b[0mself\u001b[0m\u001b[0;34m.\u001b[0m\u001b[0msetdefault\u001b[0m\u001b[0;34m(\u001b[0m\u001b[0;34m\"profile\"\u001b[0m\u001b[0;34m,\u001b[0m \u001b[0mconfig\u001b[0m\u001b[0;34m.\u001b[0m\u001b[0mDEFAULT_PACKAGE_PROFILE\u001b[0m\u001b[0;34m)\u001b[0m\u001b[0;34m\u001b[0m\u001b[0;34m\u001b[0m\u001b[0m\n\u001b[1;32m    448\u001b[0m         \u001b[0;32mfor\u001b[0m \u001b[0mresource\u001b[0m \u001b[0;32min\u001b[0m \u001b[0mself\u001b[0m\u001b[0;34m.\u001b[0m\u001b[0mresources\u001b[0m\u001b[0;34m:\u001b[0m\u001b[0;34m\u001b[0m\u001b[0;34m\u001b[0m\u001b[0m\n\u001b[0;32m--> 449\u001b[0;31m             \u001b[0mresource\u001b[0m\u001b[0;34m.\u001b[0m\u001b[0minfer\u001b[0m\u001b[0;34m(\u001b[0m\u001b[0mstats\u001b[0m\u001b[0;34m=\u001b[0m\u001b[0mstats\u001b[0m\u001b[0;34m)\u001b[0m\u001b[0;34m\u001b[0m\u001b[0;34m\u001b[0m\u001b[0m\n\u001b[0m\u001b[1;32m    450\u001b[0m \u001b[0;34m\u001b[0m\u001b[0m\n\u001b[1;32m    451\u001b[0m         \u001b[0;31m# Deduplicate names\u001b[0m\u001b[0;34m\u001b[0m\u001b[0;34m\u001b[0m\u001b[0;34m\u001b[0m\u001b[0m\n",
            "\u001b[0;32m/usr/local/lib/python3.7/dist-packages/frictionless/resource.py\u001b[0m in \u001b[0;36minfer\u001b[0;34m(self, stats)\u001b[0m\n\u001b[1;32m    704\u001b[0m             \u001b[0mnote\u001b[0m \u001b[0;34m=\u001b[0m \u001b[0;34m\"Resource.infer canot be used on a open resource\"\u001b[0m\u001b[0;34m\u001b[0m\u001b[0;34m\u001b[0m\u001b[0m\n\u001b[1;32m    705\u001b[0m             \u001b[0;32mraise\u001b[0m \u001b[0mFrictionlessException\u001b[0m\u001b[0;34m(\u001b[0m\u001b[0merrors\u001b[0m\u001b[0;34m.\u001b[0m\u001b[0mResourceError\u001b[0m\u001b[0;34m(\u001b[0m\u001b[0mnote\u001b[0m\u001b[0;34m=\u001b[0m\u001b[0mnote\u001b[0m\u001b[0;34m)\u001b[0m\u001b[0;34m)\u001b[0m\u001b[0;34m\u001b[0m\u001b[0;34m\u001b[0m\u001b[0m\n\u001b[0;32m--> 706\u001b[0;31m         \u001b[0;32mwith\u001b[0m \u001b[0mself\u001b[0m\u001b[0;34m:\u001b[0m\u001b[0;34m\u001b[0m\u001b[0;34m\u001b[0m\u001b[0m\n\u001b[0m\u001b[1;32m    707\u001b[0m             \u001b[0;32mif\u001b[0m \u001b[0;32mnot\u001b[0m \u001b[0mstats\u001b[0m\u001b[0;34m:\u001b[0m\u001b[0;34m\u001b[0m\u001b[0;34m\u001b[0m\u001b[0m\n\u001b[1;32m    708\u001b[0m                 \u001b[0mself\u001b[0m\u001b[0;34m.\u001b[0m\u001b[0mpop\u001b[0m\u001b[0;34m(\u001b[0m\u001b[0;34m\"stats\"\u001b[0m\u001b[0;34m,\u001b[0m \u001b[0;32mNone\u001b[0m\u001b[0;34m)\u001b[0m\u001b[0;34m\u001b[0m\u001b[0;34m\u001b[0m\u001b[0m\n",
            "\u001b[0;32m/usr/local/lib/python3.7/dist-packages/frictionless/resource.py\u001b[0m in \u001b[0;36m__enter__\u001b[0;34m(self)\u001b[0m\n\u001b[1;32m    286\u001b[0m     \u001b[0;32mdef\u001b[0m \u001b[0m__enter__\u001b[0m\u001b[0;34m(\u001b[0m\u001b[0mself\u001b[0m\u001b[0;34m)\u001b[0m\u001b[0;34m:\u001b[0m\u001b[0;34m\u001b[0m\u001b[0;34m\u001b[0m\u001b[0m\n\u001b[1;32m    287\u001b[0m         \u001b[0;32mif\u001b[0m \u001b[0mself\u001b[0m\u001b[0;34m.\u001b[0m\u001b[0mclosed\u001b[0m\u001b[0;34m:\u001b[0m\u001b[0;34m\u001b[0m\u001b[0;34m\u001b[0m\u001b[0m\n\u001b[0;32m--> 288\u001b[0;31m             \u001b[0mself\u001b[0m\u001b[0;34m.\u001b[0m\u001b[0mopen\u001b[0m\u001b[0;34m(\u001b[0m\u001b[0;34m)\u001b[0m\u001b[0;34m\u001b[0m\u001b[0;34m\u001b[0m\u001b[0m\n\u001b[0m\u001b[1;32m    289\u001b[0m         \u001b[0;32mreturn\u001b[0m \u001b[0mself\u001b[0m\u001b[0;34m\u001b[0m\u001b[0;34m\u001b[0m\u001b[0m\n\u001b[1;32m    290\u001b[0m \u001b[0;34m\u001b[0m\u001b[0m\n",
            "\u001b[0;32m/usr/local/lib/python3.7/dist-packages/frictionless/resource.py\u001b[0m in \u001b[0;36mopen\u001b[0;34m(self)\u001b[0m\n\u001b[1;32m    741\u001b[0m         \u001b[0;32mif\u001b[0m \u001b[0mself\u001b[0m\u001b[0;34m.\u001b[0m\u001b[0mmetadata_errors\u001b[0m\u001b[0;34m:\u001b[0m\u001b[0;34m\u001b[0m\u001b[0;34m\u001b[0m\u001b[0m\n\u001b[1;32m    742\u001b[0m             \u001b[0merror\u001b[0m \u001b[0;34m=\u001b[0m \u001b[0mself\u001b[0m\u001b[0;34m.\u001b[0m\u001b[0mmetadata_errors\u001b[0m\u001b[0;34m[\u001b[0m\u001b[0;36m0\u001b[0m\u001b[0;34m]\u001b[0m\u001b[0;34m\u001b[0m\u001b[0;34m\u001b[0m\u001b[0m\n\u001b[0;32m--> 743\u001b[0;31m             \u001b[0;32mraise\u001b[0m \u001b[0mFrictionlessException\u001b[0m\u001b[0;34m(\u001b[0m\u001b[0merror\u001b[0m\u001b[0;34m)\u001b[0m\u001b[0;34m\u001b[0m\u001b[0;34m\u001b[0m\u001b[0m\n\u001b[0m\u001b[1;32m    744\u001b[0m \u001b[0;34m\u001b[0m\u001b[0m\n\u001b[1;32m    745\u001b[0m         \u001b[0;31m# Open\u001b[0m\u001b[0;34m\u001b[0m\u001b[0;34m\u001b[0m\u001b[0;34m\u001b[0m\u001b[0m\n",
            "\u001b[0;31mFrictionlessException\u001b[0m: [resource-error] The data resource has an error: \"None is not valid under any of the given schemas\" at \"path\" in metadata and at \"properties/path/oneOf\" in profile"
          ]
        }
      ]
    },
    {
      "cell_type": "code",
      "metadata": {
        "id": "oJ6S7sbRZVPr",
        "colab": {
          "base_uri": "https://localhost:8080/",
          "height": 526
        },
        "outputId": "2f263e83-b205-4f28-cd6c-3005987d21b1"
      },
      "source": [
        "from pprint import pprint\n",
        "from frictionless import Package, Resource, transform, steps\n",
        "\n",
        "source = Resource(path=\"https://ws.cso.ie/public/api.restful/PxStat.Data.Cube_API.PxAPIv1/en/6/TORTV/THA18\")\n",
        "target = transform(\n",
        "    source,\n",
        "    steps=[\n",
        "        steps.table_normalize(),\n",
        "        steps.table_pivot(f1=\"Statistic\", f2=\"Year\", f3=\"Type of Ownership\", aggfun=sum),\n",
        "    ]\n",
        ")\n",
        "pprint(target.schema)\n",
        "pprint(target.read_rows())"
      ],
      "execution_count": 147,
      "outputs": [
        {
          "output_type": "error",
          "ename": "FrictionlessException",
          "evalue": "ignored",
          "traceback": [
            "\u001b[0;31m---------------------------------------------------------------------------\u001b[0m",
            "\u001b[0;31mAttributeError\u001b[0m                            Traceback (most recent call last)",
            "\u001b[0;32m/usr/local/lib/python3.7/dist-packages/frictionless/transform/resource.py\u001b[0m in \u001b[0;36m__iter__\u001b[0;34m(self)\u001b[0m\n\u001b[1;32m     85\u001b[0m         \u001b[0;32mtry\u001b[0m\u001b[0;34m:\u001b[0m\u001b[0;34m\u001b[0m\u001b[0;34m\u001b[0m\u001b[0m\n\u001b[0;32m---> 86\u001b[0;31m             \u001b[0;32myield\u001b[0m \u001b[0;32mfrom\u001b[0m \u001b[0mself\u001b[0m\u001b[0;34m.\u001b[0m\u001b[0mdata\u001b[0m\u001b[0;34m(\u001b[0m\u001b[0;34m)\u001b[0m \u001b[0;32mif\u001b[0m \u001b[0mcallable\u001b[0m\u001b[0;34m(\u001b[0m\u001b[0mself\u001b[0m\u001b[0;34m.\u001b[0m\u001b[0mdata\u001b[0m\u001b[0;34m)\u001b[0m \u001b[0;32melse\u001b[0m \u001b[0mself\u001b[0m\u001b[0;34m.\u001b[0m\u001b[0mdata\u001b[0m\u001b[0;34m\u001b[0m\u001b[0;34m\u001b[0m\u001b[0m\n\u001b[0m\u001b[1;32m     87\u001b[0m         \u001b[0;32mexcept\u001b[0m \u001b[0mException\u001b[0m \u001b[0;32mas\u001b[0m \u001b[0mexception\u001b[0m\u001b[0;34m:\u001b[0m\u001b[0;34m\u001b[0m\u001b[0;34m\u001b[0m\u001b[0m\n",
            "\u001b[0;32m/usr/local/lib/python3.7/dist-packages/frictionless/steps/table.py\u001b[0m in \u001b[0;36mdata\u001b[0;34m()\u001b[0m\n\u001b[1;32m    409\u001b[0m             \u001b[0;32mwith\u001b[0m \u001b[0mcurrent\u001b[0m\u001b[0;34m:\u001b[0m\u001b[0;34m\u001b[0m\u001b[0;34m\u001b[0m\u001b[0m\n\u001b[0;32m--> 410\u001b[0;31m                 \u001b[0;32myield\u001b[0m \u001b[0mcurrent\u001b[0m\u001b[0;34m.\u001b[0m\u001b[0mheader\u001b[0m\u001b[0;34m.\u001b[0m\u001b[0mto_list\u001b[0m\u001b[0;34m(\u001b[0m\u001b[0;34m)\u001b[0m\u001b[0;34m\u001b[0m\u001b[0;34m\u001b[0m\u001b[0m\n\u001b[0m\u001b[1;32m    411\u001b[0m                 \u001b[0;32mfor\u001b[0m \u001b[0mrow\u001b[0m \u001b[0;32min\u001b[0m \u001b[0mcurrent\u001b[0m\u001b[0;34m.\u001b[0m\u001b[0mrow_stream\u001b[0m\u001b[0;34m:\u001b[0m\u001b[0;34m\u001b[0m\u001b[0;34m\u001b[0m\u001b[0m\n",
            "\u001b[0;31mAttributeError\u001b[0m: 'NoneType' object has no attribute 'to_list'",
            "\nThe above exception was the direct cause of the following exception:\n",
            "\u001b[0;31mFrictionlessException\u001b[0m                     Traceback (most recent call last)",
            "\u001b[0;32m/usr/local/lib/python3.7/dist-packages/frictionless/transform/resource.py\u001b[0m in \u001b[0;36mtransform_resource\u001b[0;34m(source, steps, **options)\u001b[0m\n\u001b[1;32m     50\u001b[0m         \u001b[0;32mtry\u001b[0m\u001b[0;34m:\u001b[0m\u001b[0;34m\u001b[0m\u001b[0;34m\u001b[0m\u001b[0m\n\u001b[0;32m---> 51\u001b[0;31m             \u001b[0mstep\u001b[0m\u001b[0;34m.\u001b[0m\u001b[0mtransform_resource\u001b[0m\u001b[0;34m(\u001b[0m\u001b[0mresource\u001b[0m\u001b[0;34m)\u001b[0m\u001b[0;34m\u001b[0m\u001b[0;34m\u001b[0m\u001b[0m\n\u001b[0m\u001b[1;32m     52\u001b[0m         \u001b[0;32mexcept\u001b[0m \u001b[0mException\u001b[0m \u001b[0;32mas\u001b[0m \u001b[0mexception\u001b[0m\u001b[0;34m:\u001b[0m\u001b[0;34m\u001b[0m\u001b[0;34m\u001b[0m\u001b[0m\n",
            "\u001b[0;32m/usr/local/lib/python3.7/dist-packages/frictionless/steps/table.py\u001b[0m in \u001b[0;36mtransform_resource\u001b[0;34m(self, resource)\u001b[0m\n\u001b[1;32m    441\u001b[0m         \u001b[0mresource\u001b[0m\u001b[0;34m.\u001b[0m\u001b[0mdata\u001b[0m \u001b[0;34m=\u001b[0m \u001b[0mtable\u001b[0m\u001b[0;34m.\u001b[0m\u001b[0mpivot\u001b[0m\u001b[0;34m(\u001b[0m\u001b[0;34m**\u001b[0m\u001b[0moptions\u001b[0m\u001b[0;34m)\u001b[0m\u001b[0;34m\u001b[0m\u001b[0;34m\u001b[0m\u001b[0m\n\u001b[0;32m--> 442\u001b[0;31m         \u001b[0mresource\u001b[0m\u001b[0;34m.\u001b[0m\u001b[0minfer\u001b[0m\u001b[0;34m(\u001b[0m\u001b[0;34m)\u001b[0m\u001b[0;34m\u001b[0m\u001b[0;34m\u001b[0m\u001b[0m\n\u001b[0m\u001b[1;32m    443\u001b[0m \u001b[0;34m\u001b[0m\u001b[0m\n",
            "\u001b[0;32m/usr/local/lib/python3.7/dist-packages/frictionless/resource.py\u001b[0m in \u001b[0;36minfer\u001b[0;34m(self, stats)\u001b[0m\n\u001b[1;32m    705\u001b[0m             \u001b[0;32mraise\u001b[0m \u001b[0mFrictionlessException\u001b[0m\u001b[0;34m(\u001b[0m\u001b[0merrors\u001b[0m\u001b[0;34m.\u001b[0m\u001b[0mResourceError\u001b[0m\u001b[0;34m(\u001b[0m\u001b[0mnote\u001b[0m\u001b[0;34m=\u001b[0m\u001b[0mnote\u001b[0m\u001b[0;34m)\u001b[0m\u001b[0;34m)\u001b[0m\u001b[0;34m\u001b[0m\u001b[0;34m\u001b[0m\u001b[0m\n\u001b[0;32m--> 706\u001b[0;31m         \u001b[0;32mwith\u001b[0m \u001b[0mself\u001b[0m\u001b[0;34m:\u001b[0m\u001b[0;34m\u001b[0m\u001b[0;34m\u001b[0m\u001b[0m\n\u001b[0m\u001b[1;32m    707\u001b[0m             \u001b[0;32mif\u001b[0m \u001b[0;32mnot\u001b[0m \u001b[0mstats\u001b[0m\u001b[0;34m:\u001b[0m\u001b[0;34m\u001b[0m\u001b[0;34m\u001b[0m\u001b[0m\n",
            "\u001b[0;32m/usr/local/lib/python3.7/dist-packages/frictionless/resource.py\u001b[0m in \u001b[0;36m__enter__\u001b[0;34m(self)\u001b[0m\n\u001b[1;32m    287\u001b[0m         \u001b[0;32mif\u001b[0m \u001b[0mself\u001b[0m\u001b[0;34m.\u001b[0m\u001b[0mclosed\u001b[0m\u001b[0;34m:\u001b[0m\u001b[0;34m\u001b[0m\u001b[0;34m\u001b[0m\u001b[0m\n\u001b[0;32m--> 288\u001b[0;31m             \u001b[0mself\u001b[0m\u001b[0;34m.\u001b[0m\u001b[0mopen\u001b[0m\u001b[0;34m(\u001b[0m\u001b[0;34m)\u001b[0m\u001b[0;34m\u001b[0m\u001b[0;34m\u001b[0m\u001b[0m\n\u001b[0m\u001b[1;32m    289\u001b[0m         \u001b[0;32mreturn\u001b[0m \u001b[0mself\u001b[0m\u001b[0;34m\u001b[0m\u001b[0;34m\u001b[0m\u001b[0m\n",
            "\u001b[0;32m/usr/local/lib/python3.7/dist-packages/frictionless/resource.py\u001b[0m in \u001b[0;36mopen\u001b[0;34m(self)\u001b[0m\n\u001b[1;32m    750\u001b[0m                 \u001b[0mself\u001b[0m\u001b[0;34m.\u001b[0m\u001b[0m__parser\u001b[0m \u001b[0;34m=\u001b[0m \u001b[0msystem\u001b[0m\u001b[0;34m.\u001b[0m\u001b[0mcreate_parser\u001b[0m\u001b[0;34m(\u001b[0m\u001b[0mself\u001b[0m\u001b[0;34m)\u001b[0m\u001b[0;34m\u001b[0m\u001b[0;34m\u001b[0m\u001b[0m\n\u001b[0;32m--> 751\u001b[0;31m                 \u001b[0mself\u001b[0m\u001b[0;34m.\u001b[0m\u001b[0m__parser\u001b[0m\u001b[0;34m.\u001b[0m\u001b[0mopen\u001b[0m\u001b[0;34m(\u001b[0m\u001b[0;34m)\u001b[0m\u001b[0;34m\u001b[0m\u001b[0;34m\u001b[0m\u001b[0m\n\u001b[0m\u001b[1;32m    752\u001b[0m                 \u001b[0mself\u001b[0m\u001b[0;34m.\u001b[0m\u001b[0m__read_detect_layout\u001b[0m\u001b[0;34m(\u001b[0m\u001b[0;34m)\u001b[0m\u001b[0;34m\u001b[0m\u001b[0;34m\u001b[0m\u001b[0m\n",
            "\u001b[0;32m/usr/local/lib/python3.7/dist-packages/frictionless/parser.py\u001b[0m in \u001b[0;36mopen\u001b[0;34m(self)\u001b[0m\n\u001b[1;32m     75\u001b[0m             \u001b[0mself\u001b[0m\u001b[0;34m.\u001b[0m\u001b[0m__loader\u001b[0m \u001b[0;34m=\u001b[0m \u001b[0mself\u001b[0m\u001b[0;34m.\u001b[0m\u001b[0mread_loader\u001b[0m\u001b[0;34m(\u001b[0m\u001b[0;34m)\u001b[0m\u001b[0;34m\u001b[0m\u001b[0;34m\u001b[0m\u001b[0m\n\u001b[0;32m---> 76\u001b[0;31m             \u001b[0mself\u001b[0m\u001b[0;34m.\u001b[0m\u001b[0m__list_stream\u001b[0m \u001b[0;34m=\u001b[0m \u001b[0mself\u001b[0m\u001b[0;34m.\u001b[0m\u001b[0mread_list_stream\u001b[0m\u001b[0;34m(\u001b[0m\u001b[0;34m)\u001b[0m\u001b[0;34m\u001b[0m\u001b[0;34m\u001b[0m\u001b[0m\n\u001b[0m\u001b[1;32m     77\u001b[0m             \u001b[0;32mreturn\u001b[0m \u001b[0mself\u001b[0m\u001b[0;34m\u001b[0m\u001b[0;34m\u001b[0m\u001b[0m\n",
            "\u001b[0;32m/usr/local/lib/python3.7/dist-packages/frictionless/parser.py\u001b[0m in \u001b[0;36mread_list_stream\u001b[0;34m(self)\u001b[0m\n\u001b[1;32m    116\u001b[0m         \u001b[0mlist_stream\u001b[0m \u001b[0;34m=\u001b[0m \u001b[0mself\u001b[0m\u001b[0;34m.\u001b[0m\u001b[0mread_list_stream_handle_errors\u001b[0m\u001b[0;34m(\u001b[0m\u001b[0mlist_stream\u001b[0m\u001b[0;34m)\u001b[0m\u001b[0;34m\u001b[0m\u001b[0;34m\u001b[0m\u001b[0m\n\u001b[0;32m--> 117\u001b[0;31m         \u001b[0;32mfor\u001b[0m \u001b[0mcells\u001b[0m \u001b[0;32min\u001b[0m \u001b[0mlist_stream\u001b[0m\u001b[0;34m:\u001b[0m\u001b[0;34m\u001b[0m\u001b[0;34m\u001b[0m\u001b[0m\n\u001b[0m\u001b[1;32m    118\u001b[0m             \u001b[0mself\u001b[0m\u001b[0;34m.\u001b[0m\u001b[0m__sample\u001b[0m\u001b[0;34m.\u001b[0m\u001b[0mappend\u001b[0m\u001b[0;34m(\u001b[0m\u001b[0mcells\u001b[0m\u001b[0;34m)\u001b[0m\u001b[0;34m\u001b[0m\u001b[0;34m\u001b[0m\u001b[0m\n",
            "\u001b[0;32m/usr/local/lib/python3.7/dist-packages/frictionless/parser.py\u001b[0m in \u001b[0;36m__next__\u001b[0;34m(self)\u001b[0m\n\u001b[1;32m    173\u001b[0m         \u001b[0;32mtry\u001b[0m\u001b[0;34m:\u001b[0m\u001b[0;34m\u001b[0m\u001b[0;34m\u001b[0m\u001b[0m\n\u001b[0;32m--> 174\u001b[0;31m             \u001b[0;32mreturn\u001b[0m \u001b[0mself\u001b[0m\u001b[0;34m.\u001b[0m\u001b[0mlist_stream\u001b[0m\u001b[0;34m.\u001b[0m\u001b[0m__next__\u001b[0m\u001b[0;34m(\u001b[0m\u001b[0;34m)\u001b[0m\u001b[0;34m\u001b[0m\u001b[0;34m\u001b[0m\u001b[0m\n\u001b[0m\u001b[1;32m    175\u001b[0m         \u001b[0;32mexcept\u001b[0m \u001b[0mStopIteration\u001b[0m\u001b[0;34m:\u001b[0m\u001b[0;34m\u001b[0m\u001b[0;34m\u001b[0m\u001b[0m\n",
            "\u001b[0;32m/usr/local/lib/python3.7/dist-packages/frictionless/plugins/inline.py\u001b[0m in \u001b[0;36mread_list_stream_create\u001b[0;34m(self)\u001b[0m\n\u001b[1;32m    142\u001b[0m         \u001b[0;32mtry\u001b[0m\u001b[0;34m:\u001b[0m\u001b[0;34m\u001b[0m\u001b[0;34m\u001b[0m\u001b[0m\n\u001b[0;32m--> 143\u001b[0;31m             \u001b[0mitem\u001b[0m \u001b[0;34m=\u001b[0m \u001b[0mnext\u001b[0m\u001b[0;34m(\u001b[0m\u001b[0mdata\u001b[0m\u001b[0;34m)\u001b[0m\u001b[0;34m\u001b[0m\u001b[0;34m\u001b[0m\u001b[0m\n\u001b[0m\u001b[1;32m    144\u001b[0m         \u001b[0;32mexcept\u001b[0m \u001b[0mStopIteration\u001b[0m\u001b[0;34m:\u001b[0m\u001b[0;34m\u001b[0m\u001b[0;34m\u001b[0m\u001b[0m\n",
            "\u001b[0;32m/usr/local/lib/python3.7/dist-packages/petl/transform/reshape.py\u001b[0m in \u001b[0;36miterpivot\u001b[0;34m(source, f1, f2, f3, aggfun, missing)\u001b[0m\n\u001b[1;32m    531\u001b[0m     \u001b[0;31m# first pass - collect fields\u001b[0m\u001b[0;34m\u001b[0m\u001b[0;34m\u001b[0m\u001b[0;34m\u001b[0m\u001b[0m\n\u001b[0;32m--> 532\u001b[0;31m     \u001b[0mf2vals\u001b[0m \u001b[0;34m=\u001b[0m \u001b[0mset\u001b[0m\u001b[0;34m(\u001b[0m\u001b[0mitervalues\u001b[0m\u001b[0;34m(\u001b[0m\u001b[0msource\u001b[0m\u001b[0;34m,\u001b[0m \u001b[0mf2\u001b[0m\u001b[0;34m)\u001b[0m\u001b[0;34m)\u001b[0m  \u001b[0;31m# TODO only make one pass\u001b[0m\u001b[0;34m\u001b[0m\u001b[0;34m\u001b[0m\u001b[0m\n\u001b[0m\u001b[1;32m    533\u001b[0m     \u001b[0mf2vals\u001b[0m \u001b[0;34m=\u001b[0m \u001b[0mlist\u001b[0m\u001b[0;34m(\u001b[0m\u001b[0mf2vals\u001b[0m\u001b[0;34m)\u001b[0m\u001b[0;34m\u001b[0m\u001b[0;34m\u001b[0m\u001b[0m\n",
            "\u001b[0;32m/usr/local/lib/python3.7/dist-packages/petl/util/base.py\u001b[0m in \u001b[0;36mitervalues\u001b[0;34m(table, field, **kwargs)\u001b[0m\n\u001b[1;32m    246\u001b[0m     \u001b[0mit\u001b[0m \u001b[0;34m=\u001b[0m \u001b[0miter\u001b[0m\u001b[0;34m(\u001b[0m\u001b[0mtable\u001b[0m\u001b[0;34m)\u001b[0m\u001b[0;34m\u001b[0m\u001b[0;34m\u001b[0m\u001b[0m\n\u001b[0;32m--> 247\u001b[0;31m     \u001b[0mhdr\u001b[0m \u001b[0;34m=\u001b[0m \u001b[0mnext\u001b[0m\u001b[0;34m(\u001b[0m\u001b[0mit\u001b[0m\u001b[0;34m)\u001b[0m\u001b[0;34m\u001b[0m\u001b[0;34m\u001b[0m\u001b[0m\n\u001b[0m\u001b[1;32m    248\u001b[0m \u001b[0;34m\u001b[0m\u001b[0m\n",
            "\u001b[0;32m/usr/local/lib/python3.7/dist-packages/petl/transform/sorts.py\u001b[0m in \u001b[0;36m_iternocache\u001b[0;34m(self, source, key, reverse)\u001b[0m\n\u001b[1;32m    288\u001b[0m \u001b[0;34m\u001b[0m\u001b[0m\n\u001b[0;32m--> 289\u001b[0;31m         \u001b[0mhdr\u001b[0m \u001b[0;34m=\u001b[0m \u001b[0mnext\u001b[0m\u001b[0;34m(\u001b[0m\u001b[0mit\u001b[0m\u001b[0;34m)\u001b[0m\u001b[0;34m\u001b[0m\u001b[0;34m\u001b[0m\u001b[0m\n\u001b[0m\u001b[1;32m    290\u001b[0m         \u001b[0;32myield\u001b[0m \u001b[0mtuple\u001b[0m\u001b[0;34m(\u001b[0m\u001b[0mhdr\u001b[0m\u001b[0;34m)\u001b[0m\u001b[0;34m\u001b[0m\u001b[0;34m\u001b[0m\u001b[0m\n",
            "\u001b[0;32m/usr/local/lib/python3.7/dist-packages/frictionless/resource.py\u001b[0m in \u001b[0;36m__iter__\u001b[0;34m(self)\u001b[0m\n\u001b[1;32m   1176\u001b[0m             \u001b[0;32mdef\u001b[0m \u001b[0m__iter__\u001b[0m\u001b[0;34m(\u001b[0m\u001b[0mself\u001b[0m\u001b[0;34m)\u001b[0m\u001b[0;34m:\u001b[0m\u001b[0;34m\u001b[0m\u001b[0;34m\u001b[0m\u001b[0m\n\u001b[0;32m-> 1177\u001b[0;31m                 \u001b[0;32mwith\u001b[0m \u001b[0mresource\u001b[0m\u001b[0;34m:\u001b[0m\u001b[0;34m\u001b[0m\u001b[0;34m\u001b[0m\u001b[0m\n\u001b[0m\u001b[1;32m   1178\u001b[0m                     \u001b[0;32mif\u001b[0m \u001b[0mnormalize\u001b[0m\u001b[0;34m:\u001b[0m\u001b[0;34m\u001b[0m\u001b[0;34m\u001b[0m\u001b[0m\n",
            "\u001b[0;32m/usr/local/lib/python3.7/dist-packages/frictionless/resource.py\u001b[0m in \u001b[0;36m__enter__\u001b[0;34m(self)\u001b[0m\n\u001b[1;32m    287\u001b[0m         \u001b[0;32mif\u001b[0m \u001b[0mself\u001b[0m\u001b[0;34m.\u001b[0m\u001b[0mclosed\u001b[0m\u001b[0;34m:\u001b[0m\u001b[0;34m\u001b[0m\u001b[0;34m\u001b[0m\u001b[0m\n\u001b[0;32m--> 288\u001b[0;31m             \u001b[0mself\u001b[0m\u001b[0;34m.\u001b[0m\u001b[0mopen\u001b[0m\u001b[0;34m(\u001b[0m\u001b[0;34m)\u001b[0m\u001b[0;34m\u001b[0m\u001b[0;34m\u001b[0m\u001b[0m\n\u001b[0m\u001b[1;32m    289\u001b[0m         \u001b[0;32mreturn\u001b[0m \u001b[0mself\u001b[0m\u001b[0;34m\u001b[0m\u001b[0;34m\u001b[0m\u001b[0m\n",
            "\u001b[0;32m/usr/local/lib/python3.7/dist-packages/frictionless/resource.py\u001b[0m in \u001b[0;36mopen\u001b[0;34m(self)\u001b[0m\n\u001b[1;32m    750\u001b[0m                 \u001b[0mself\u001b[0m\u001b[0;34m.\u001b[0m\u001b[0m__parser\u001b[0m \u001b[0;34m=\u001b[0m \u001b[0msystem\u001b[0m\u001b[0;34m.\u001b[0m\u001b[0mcreate_parser\u001b[0m\u001b[0;34m(\u001b[0m\u001b[0mself\u001b[0m\u001b[0;34m)\u001b[0m\u001b[0;34m\u001b[0m\u001b[0;34m\u001b[0m\u001b[0m\n\u001b[0;32m--> 751\u001b[0;31m                 \u001b[0mself\u001b[0m\u001b[0;34m.\u001b[0m\u001b[0m__parser\u001b[0m\u001b[0;34m.\u001b[0m\u001b[0mopen\u001b[0m\u001b[0;34m(\u001b[0m\u001b[0;34m)\u001b[0m\u001b[0;34m\u001b[0m\u001b[0;34m\u001b[0m\u001b[0m\n\u001b[0m\u001b[1;32m    752\u001b[0m                 \u001b[0mself\u001b[0m\u001b[0;34m.\u001b[0m\u001b[0m__read_detect_layout\u001b[0m\u001b[0;34m(\u001b[0m\u001b[0;34m)\u001b[0m\u001b[0;34m\u001b[0m\u001b[0;34m\u001b[0m\u001b[0m\n",
            "\u001b[0;32m/usr/local/lib/python3.7/dist-packages/frictionless/parser.py\u001b[0m in \u001b[0;36mopen\u001b[0;34m(self)\u001b[0m\n\u001b[1;32m     75\u001b[0m             \u001b[0mself\u001b[0m\u001b[0;34m.\u001b[0m\u001b[0m__loader\u001b[0m \u001b[0;34m=\u001b[0m \u001b[0mself\u001b[0m\u001b[0;34m.\u001b[0m\u001b[0mread_loader\u001b[0m\u001b[0;34m(\u001b[0m\u001b[0;34m)\u001b[0m\u001b[0;34m\u001b[0m\u001b[0;34m\u001b[0m\u001b[0m\n\u001b[0;32m---> 76\u001b[0;31m             \u001b[0mself\u001b[0m\u001b[0;34m.\u001b[0m\u001b[0m__list_stream\u001b[0m \u001b[0;34m=\u001b[0m \u001b[0mself\u001b[0m\u001b[0;34m.\u001b[0m\u001b[0mread_list_stream\u001b[0m\u001b[0;34m(\u001b[0m\u001b[0;34m)\u001b[0m\u001b[0;34m\u001b[0m\u001b[0;34m\u001b[0m\u001b[0m\n\u001b[0m\u001b[1;32m     77\u001b[0m             \u001b[0;32mreturn\u001b[0m \u001b[0mself\u001b[0m\u001b[0;34m\u001b[0m\u001b[0;34m\u001b[0m\u001b[0m\n",
            "\u001b[0;32m/usr/local/lib/python3.7/dist-packages/frictionless/parser.py\u001b[0m in \u001b[0;36mread_list_stream\u001b[0;34m(self)\u001b[0m\n\u001b[1;32m    116\u001b[0m         \u001b[0mlist_stream\u001b[0m \u001b[0;34m=\u001b[0m \u001b[0mself\u001b[0m\u001b[0;34m.\u001b[0m\u001b[0mread_list_stream_handle_errors\u001b[0m\u001b[0;34m(\u001b[0m\u001b[0mlist_stream\u001b[0m\u001b[0;34m)\u001b[0m\u001b[0;34m\u001b[0m\u001b[0;34m\u001b[0m\u001b[0m\n\u001b[0;32m--> 117\u001b[0;31m         \u001b[0;32mfor\u001b[0m \u001b[0mcells\u001b[0m \u001b[0;32min\u001b[0m \u001b[0mlist_stream\u001b[0m\u001b[0;34m:\u001b[0m\u001b[0;34m\u001b[0m\u001b[0;34m\u001b[0m\u001b[0m\n\u001b[0m\u001b[1;32m    118\u001b[0m             \u001b[0mself\u001b[0m\u001b[0;34m.\u001b[0m\u001b[0m__sample\u001b[0m\u001b[0;34m.\u001b[0m\u001b[0mappend\u001b[0m\u001b[0;34m(\u001b[0m\u001b[0mcells\u001b[0m\u001b[0;34m)\u001b[0m\u001b[0;34m\u001b[0m\u001b[0;34m\u001b[0m\u001b[0m\n",
            "\u001b[0;32m/usr/local/lib/python3.7/dist-packages/frictionless/parser.py\u001b[0m in \u001b[0;36m__next__\u001b[0;34m(self)\u001b[0m\n\u001b[1;32m    173\u001b[0m         \u001b[0;32mtry\u001b[0m\u001b[0;34m:\u001b[0m\u001b[0;34m\u001b[0m\u001b[0;34m\u001b[0m\u001b[0m\n\u001b[0;32m--> 174\u001b[0;31m             \u001b[0;32mreturn\u001b[0m \u001b[0mself\u001b[0m\u001b[0;34m.\u001b[0m\u001b[0mlist_stream\u001b[0m\u001b[0;34m.\u001b[0m\u001b[0m__next__\u001b[0m\u001b[0;34m(\u001b[0m\u001b[0;34m)\u001b[0m\u001b[0;34m\u001b[0m\u001b[0;34m\u001b[0m\u001b[0m\n\u001b[0m\u001b[1;32m    175\u001b[0m         \u001b[0;32mexcept\u001b[0m \u001b[0mStopIteration\u001b[0m\u001b[0;34m:\u001b[0m\u001b[0;34m\u001b[0m\u001b[0;34m\u001b[0m\u001b[0m\n",
            "\u001b[0;32m/usr/local/lib/python3.7/dist-packages/frictionless/plugins/inline.py\u001b[0m in \u001b[0;36mread_list_stream_create\u001b[0;34m(self)\u001b[0m\n\u001b[1;32m    142\u001b[0m         \u001b[0;32mtry\u001b[0m\u001b[0;34m:\u001b[0m\u001b[0;34m\u001b[0m\u001b[0;34m\u001b[0m\u001b[0m\n\u001b[0;32m--> 143\u001b[0;31m             \u001b[0mitem\u001b[0m \u001b[0;34m=\u001b[0m \u001b[0mnext\u001b[0m\u001b[0;34m(\u001b[0m\u001b[0mdata\u001b[0m\u001b[0;34m)\u001b[0m\u001b[0;34m\u001b[0m\u001b[0;34m\u001b[0m\u001b[0m\n\u001b[0m\u001b[1;32m    144\u001b[0m         \u001b[0;32mexcept\u001b[0m \u001b[0mStopIteration\u001b[0m\u001b[0;34m:\u001b[0m\u001b[0;34m\u001b[0m\u001b[0;34m\u001b[0m\u001b[0m\n",
            "\u001b[0;32m/usr/local/lib/python3.7/dist-packages/frictionless/transform/resource.py\u001b[0m in \u001b[0;36m__iter__\u001b[0;34m(self)\u001b[0m\n\u001b[1;32m     91\u001b[0m             \u001b[0merror\u001b[0m \u001b[0;34m=\u001b[0m \u001b[0merrors\u001b[0m\u001b[0;34m.\u001b[0m\u001b[0mStepError\u001b[0m\u001b[0;34m(\u001b[0m\u001b[0mnote\u001b[0m\u001b[0;34m=\u001b[0m\u001b[0;34mf'\"{get_name(self.step)}\" raises \"{exception}\"'\u001b[0m\u001b[0;34m)\u001b[0m\u001b[0;34m\u001b[0m\u001b[0;34m\u001b[0m\u001b[0m\n\u001b[0;32m---> 92\u001b[0;31m             \u001b[0;32mraise\u001b[0m \u001b[0mFrictionlessException\u001b[0m\u001b[0;34m(\u001b[0m\u001b[0merror\u001b[0m\u001b[0;34m)\u001b[0m \u001b[0;32mfrom\u001b[0m \u001b[0mexception\u001b[0m\u001b[0;34m\u001b[0m\u001b[0;34m\u001b[0m\u001b[0m\n\u001b[0m",
            "\u001b[0;31mFrictionlessException\u001b[0m: [step-error] Step is not valid: \"table_normalize\" raises \"'NoneType' object has no attribute 'to_list'\"",
            "\nThe above exception was the direct cause of the following exception:\n",
            "\u001b[0;31mFrictionlessException\u001b[0m                     Traceback (most recent call last)",
            "\u001b[0;32m<ipython-input-147-5013dc58356f>\u001b[0m in \u001b[0;36m<module>\u001b[0;34m()\u001b[0m\n\u001b[1;32m      7\u001b[0m     steps=[\n\u001b[1;32m      8\u001b[0m         \u001b[0msteps\u001b[0m\u001b[0;34m.\u001b[0m\u001b[0mtable_normalize\u001b[0m\u001b[0;34m(\u001b[0m\u001b[0;34m)\u001b[0m\u001b[0;34m,\u001b[0m\u001b[0;34m\u001b[0m\u001b[0;34m\u001b[0m\u001b[0m\n\u001b[0;32m----> 9\u001b[0;31m         \u001b[0msteps\u001b[0m\u001b[0;34m.\u001b[0m\u001b[0mtable_pivot\u001b[0m\u001b[0;34m(\u001b[0m\u001b[0mf1\u001b[0m\u001b[0;34m=\u001b[0m\u001b[0;34m\"Statistic\"\u001b[0m\u001b[0;34m,\u001b[0m \u001b[0mf2\u001b[0m\u001b[0;34m=\u001b[0m\u001b[0;34m\"Year\"\u001b[0m\u001b[0;34m,\u001b[0m \u001b[0mf3\u001b[0m\u001b[0;34m=\u001b[0m\u001b[0;34m\"Type of Ownership\"\u001b[0m\u001b[0;34m,\u001b[0m \u001b[0maggfun\u001b[0m\u001b[0;34m=\u001b[0m\u001b[0msum\u001b[0m\u001b[0;34m)\u001b[0m\u001b[0;34m,\u001b[0m\u001b[0;34m\u001b[0m\u001b[0;34m\u001b[0m\u001b[0m\n\u001b[0m\u001b[1;32m     10\u001b[0m     ]\n\u001b[1;32m     11\u001b[0m )\n",
            "\u001b[0;32m/usr/local/lib/python3.7/dist-packages/frictionless/transform/main.py\u001b[0m in \u001b[0;36mtransform\u001b[0;34m(source, type, **options)\u001b[0m\n\u001b[1;32m     33\u001b[0m         \u001b[0mnote\u001b[0m \u001b[0;34m=\u001b[0m \u001b[0;34mf\"Not supported transform type: {type}\"\u001b[0m\u001b[0;34m\u001b[0m\u001b[0;34m\u001b[0m\u001b[0m\n\u001b[1;32m     34\u001b[0m         \u001b[0;32mraise\u001b[0m \u001b[0mFrictionlessException\u001b[0m\u001b[0;34m(\u001b[0m\u001b[0merrors\u001b[0m\u001b[0;34m.\u001b[0m\u001b[0mGeneralError\u001b[0m\u001b[0;34m(\u001b[0m\u001b[0mnote\u001b[0m\u001b[0;34m=\u001b[0m\u001b[0mnote\u001b[0m\u001b[0;34m)\u001b[0m\u001b[0;34m)\u001b[0m\u001b[0;34m\u001b[0m\u001b[0;34m\u001b[0m\u001b[0m\n\u001b[0;32m---> 35\u001b[0;31m     \u001b[0;32mreturn\u001b[0m \u001b[0mtransform\u001b[0m\u001b[0;34m(\u001b[0m\u001b[0msource\u001b[0m\u001b[0;34m,\u001b[0m \u001b[0;34m**\u001b[0m\u001b[0moptions\u001b[0m\u001b[0;34m)\u001b[0m\u001b[0;34m\u001b[0m\u001b[0;34m\u001b[0m\u001b[0m\n\u001b[0m",
            "\u001b[0;32m/usr/local/lib/python3.7/dist-packages/frictionless/transform/resource.py\u001b[0m in \u001b[0;36mtransform_resource\u001b[0;34m(source, steps, **options)\u001b[0m\n\u001b[1;32m     52\u001b[0m         \u001b[0;32mexcept\u001b[0m \u001b[0mException\u001b[0m \u001b[0;32mas\u001b[0m \u001b[0mexception\u001b[0m\u001b[0;34m:\u001b[0m\u001b[0;34m\u001b[0m\u001b[0;34m\u001b[0m\u001b[0m\n\u001b[1;32m     53\u001b[0m             \u001b[0merror\u001b[0m \u001b[0;34m=\u001b[0m \u001b[0merrors\u001b[0m\u001b[0;34m.\u001b[0m\u001b[0mStepError\u001b[0m\u001b[0;34m(\u001b[0m\u001b[0mnote\u001b[0m\u001b[0;34m=\u001b[0m\u001b[0;34mf'\"{get_name(step)}\" raises \"{exception}\"'\u001b[0m\u001b[0;34m)\u001b[0m\u001b[0;34m\u001b[0m\u001b[0;34m\u001b[0m\u001b[0m\n\u001b[0;32m---> 54\u001b[0;31m             \u001b[0;32mraise\u001b[0m \u001b[0mFrictionlessException\u001b[0m\u001b[0;34m(\u001b[0m\u001b[0merror\u001b[0m\u001b[0;34m)\u001b[0m \u001b[0;32mfrom\u001b[0m \u001b[0mexception\u001b[0m\u001b[0;34m\u001b[0m\u001b[0;34m\u001b[0m\u001b[0m\n\u001b[0m\u001b[1;32m     55\u001b[0m \u001b[0;34m\u001b[0m\u001b[0m\n\u001b[1;32m     56\u001b[0m         \u001b[0;31m# Postprocess\u001b[0m\u001b[0;34m\u001b[0m\u001b[0;34m\u001b[0m\u001b[0;34m\u001b[0m\u001b[0m\n",
            "\u001b[0;31mFrictionlessException\u001b[0m: [step-error] Step is not valid: \"table_pivot\" raises \"[step-error] Step is not valid: \"table_normalize\" raises \"'NoneType' object has no attribute 'to_list'\"\""
          ]
        }
      ]
    },
    {
      "cell_type": "code",
      "metadata": {
        "colab": {
          "base_uri": "https://localhost:8080/",
          "height": 543
        },
        "id": "pn0DunxoSSxV",
        "outputId": "1632888a-84c9-474d-90fc-586aa2738183"
      },
      "source": [
        "from pprint import pprint\n",
        "from frictionless import Package, Resource, transform, steps\n",
        "\n",
        "source = Resource(path=\"https://ws.cso.ie/public/api.restful/PxStat.Data.Cube_API.PxAPIv1/en/6/TORTV/THA18\")\n",
        "target = transform(\n",
        "    source,\n",
        "    steps=[\n",
        "        steps.table_normalize(),\n",
        "        steps.table_transpose(),\n",
        "    ]\n",
        ")\n",
        "pprint(target.schema)\n",
        "pprint(target.read_rows())"
      ],
      "execution_count": 150,
      "outputs": [
        {
          "output_type": "error",
          "ename": "FrictionlessException",
          "evalue": "ignored",
          "traceback": [
            "\u001b[0;31m---------------------------------------------------------------------------\u001b[0m",
            "\u001b[0;31mAttributeError\u001b[0m                            Traceback (most recent call last)",
            "\u001b[0;32m/usr/local/lib/python3.7/dist-packages/frictionless/transform/resource.py\u001b[0m in \u001b[0;36m__iter__\u001b[0;34m(self)\u001b[0m\n\u001b[1;32m     85\u001b[0m         \u001b[0;32mtry\u001b[0m\u001b[0;34m:\u001b[0m\u001b[0;34m\u001b[0m\u001b[0;34m\u001b[0m\u001b[0m\n\u001b[0;32m---> 86\u001b[0;31m             \u001b[0;32myield\u001b[0m \u001b[0;32mfrom\u001b[0m \u001b[0mself\u001b[0m\u001b[0;34m.\u001b[0m\u001b[0mdata\u001b[0m\u001b[0;34m(\u001b[0m\u001b[0;34m)\u001b[0m \u001b[0;32mif\u001b[0m \u001b[0mcallable\u001b[0m\u001b[0;34m(\u001b[0m\u001b[0mself\u001b[0m\u001b[0;34m.\u001b[0m\u001b[0mdata\u001b[0m\u001b[0;34m)\u001b[0m \u001b[0;32melse\u001b[0m \u001b[0mself\u001b[0m\u001b[0;34m.\u001b[0m\u001b[0mdata\u001b[0m\u001b[0;34m\u001b[0m\u001b[0;34m\u001b[0m\u001b[0m\n\u001b[0m\u001b[1;32m     87\u001b[0m         \u001b[0;32mexcept\u001b[0m \u001b[0mException\u001b[0m \u001b[0;32mas\u001b[0m \u001b[0mexception\u001b[0m\u001b[0;34m:\u001b[0m\u001b[0;34m\u001b[0m\u001b[0;34m\u001b[0m\u001b[0m\n",
            "\u001b[0;32m/usr/local/lib/python3.7/dist-packages/frictionless/steps/table.py\u001b[0m in \u001b[0;36mdata\u001b[0;34m()\u001b[0m\n\u001b[1;32m    409\u001b[0m             \u001b[0;32mwith\u001b[0m \u001b[0mcurrent\u001b[0m\u001b[0;34m:\u001b[0m\u001b[0;34m\u001b[0m\u001b[0;34m\u001b[0m\u001b[0m\n\u001b[0;32m--> 410\u001b[0;31m                 \u001b[0;32myield\u001b[0m \u001b[0mcurrent\u001b[0m\u001b[0;34m.\u001b[0m\u001b[0mheader\u001b[0m\u001b[0;34m.\u001b[0m\u001b[0mto_list\u001b[0m\u001b[0;34m(\u001b[0m\u001b[0;34m)\u001b[0m\u001b[0;34m\u001b[0m\u001b[0;34m\u001b[0m\u001b[0m\n\u001b[0m\u001b[1;32m    411\u001b[0m                 \u001b[0;32mfor\u001b[0m \u001b[0mrow\u001b[0m \u001b[0;32min\u001b[0m \u001b[0mcurrent\u001b[0m\u001b[0;34m.\u001b[0m\u001b[0mrow_stream\u001b[0m\u001b[0;34m:\u001b[0m\u001b[0;34m\u001b[0m\u001b[0;34m\u001b[0m\u001b[0m\n",
            "\u001b[0;31mAttributeError\u001b[0m: 'NoneType' object has no attribute 'to_list'",
            "\nThe above exception was the direct cause of the following exception:\n",
            "\u001b[0;31mFrictionlessException\u001b[0m                     Traceback (most recent call last)",
            "\u001b[0;32m/usr/local/lib/python3.7/dist-packages/frictionless/transform/resource.py\u001b[0m in \u001b[0;36mtransform_resource\u001b[0;34m(source, steps, **options)\u001b[0m\n\u001b[1;32m     50\u001b[0m         \u001b[0;32mtry\u001b[0m\u001b[0;34m:\u001b[0m\u001b[0;34m\u001b[0m\u001b[0;34m\u001b[0m\u001b[0m\n\u001b[0;32m---> 51\u001b[0;31m             \u001b[0mstep\u001b[0m\u001b[0;34m.\u001b[0m\u001b[0mtransform_resource\u001b[0m\u001b[0;34m(\u001b[0m\u001b[0mresource\u001b[0m\u001b[0;34m)\u001b[0m\u001b[0;34m\u001b[0m\u001b[0;34m\u001b[0m\u001b[0m\n\u001b[0m\u001b[1;32m     52\u001b[0m         \u001b[0;32mexcept\u001b[0m \u001b[0mException\u001b[0m \u001b[0;32mas\u001b[0m \u001b[0mexception\u001b[0m\u001b[0;34m:\u001b[0m\u001b[0;34m\u001b[0m\u001b[0;34m\u001b[0m\u001b[0m\n",
            "\u001b[0;32m/usr/local/lib/python3.7/dist-packages/frictionless/steps/table.py\u001b[0m in \u001b[0;36mtransform_resource\u001b[0;34m(self, resource)\u001b[0m\n\u001b[1;32m    526\u001b[0m         \u001b[0mresource\u001b[0m\u001b[0;34m.\u001b[0m\u001b[0mdata\u001b[0m \u001b[0;34m=\u001b[0m \u001b[0mtable\u001b[0m\u001b[0;34m.\u001b[0m\u001b[0mtranspose\u001b[0m\u001b[0;34m(\u001b[0m\u001b[0;34m)\u001b[0m\u001b[0;34m\u001b[0m\u001b[0;34m\u001b[0m\u001b[0m\n\u001b[0;32m--> 527\u001b[0;31m         \u001b[0mresource\u001b[0m\u001b[0;34m.\u001b[0m\u001b[0minfer\u001b[0m\u001b[0;34m(\u001b[0m\u001b[0;34m)\u001b[0m\u001b[0;34m\u001b[0m\u001b[0;34m\u001b[0m\u001b[0m\n\u001b[0m\u001b[1;32m    528\u001b[0m \u001b[0;34m\u001b[0m\u001b[0m\n",
            "\u001b[0;32m/usr/local/lib/python3.7/dist-packages/frictionless/resource.py\u001b[0m in \u001b[0;36minfer\u001b[0;34m(self, stats)\u001b[0m\n\u001b[1;32m    705\u001b[0m             \u001b[0;32mraise\u001b[0m \u001b[0mFrictionlessException\u001b[0m\u001b[0;34m(\u001b[0m\u001b[0merrors\u001b[0m\u001b[0;34m.\u001b[0m\u001b[0mResourceError\u001b[0m\u001b[0;34m(\u001b[0m\u001b[0mnote\u001b[0m\u001b[0;34m=\u001b[0m\u001b[0mnote\u001b[0m\u001b[0;34m)\u001b[0m\u001b[0;34m)\u001b[0m\u001b[0;34m\u001b[0m\u001b[0;34m\u001b[0m\u001b[0m\n\u001b[0;32m--> 706\u001b[0;31m         \u001b[0;32mwith\u001b[0m \u001b[0mself\u001b[0m\u001b[0;34m:\u001b[0m\u001b[0;34m\u001b[0m\u001b[0;34m\u001b[0m\u001b[0m\n\u001b[0m\u001b[1;32m    707\u001b[0m             \u001b[0;32mif\u001b[0m \u001b[0;32mnot\u001b[0m \u001b[0mstats\u001b[0m\u001b[0;34m:\u001b[0m\u001b[0;34m\u001b[0m\u001b[0;34m\u001b[0m\u001b[0m\n",
            "\u001b[0;32m/usr/local/lib/python3.7/dist-packages/frictionless/resource.py\u001b[0m in \u001b[0;36m__enter__\u001b[0;34m(self)\u001b[0m\n\u001b[1;32m    287\u001b[0m         \u001b[0;32mif\u001b[0m \u001b[0mself\u001b[0m\u001b[0;34m.\u001b[0m\u001b[0mclosed\u001b[0m\u001b[0;34m:\u001b[0m\u001b[0;34m\u001b[0m\u001b[0;34m\u001b[0m\u001b[0m\n\u001b[0;32m--> 288\u001b[0;31m             \u001b[0mself\u001b[0m\u001b[0;34m.\u001b[0m\u001b[0mopen\u001b[0m\u001b[0;34m(\u001b[0m\u001b[0;34m)\u001b[0m\u001b[0;34m\u001b[0m\u001b[0;34m\u001b[0m\u001b[0m\n\u001b[0m\u001b[1;32m    289\u001b[0m         \u001b[0;32mreturn\u001b[0m \u001b[0mself\u001b[0m\u001b[0;34m\u001b[0m\u001b[0;34m\u001b[0m\u001b[0m\n",
            "\u001b[0;32m/usr/local/lib/python3.7/dist-packages/frictionless/resource.py\u001b[0m in \u001b[0;36mopen\u001b[0;34m(self)\u001b[0m\n\u001b[1;32m    750\u001b[0m                 \u001b[0mself\u001b[0m\u001b[0;34m.\u001b[0m\u001b[0m__parser\u001b[0m \u001b[0;34m=\u001b[0m \u001b[0msystem\u001b[0m\u001b[0;34m.\u001b[0m\u001b[0mcreate_parser\u001b[0m\u001b[0;34m(\u001b[0m\u001b[0mself\u001b[0m\u001b[0;34m)\u001b[0m\u001b[0;34m\u001b[0m\u001b[0;34m\u001b[0m\u001b[0m\n\u001b[0;32m--> 751\u001b[0;31m                 \u001b[0mself\u001b[0m\u001b[0;34m.\u001b[0m\u001b[0m__parser\u001b[0m\u001b[0;34m.\u001b[0m\u001b[0mopen\u001b[0m\u001b[0;34m(\u001b[0m\u001b[0;34m)\u001b[0m\u001b[0;34m\u001b[0m\u001b[0;34m\u001b[0m\u001b[0m\n\u001b[0m\u001b[1;32m    752\u001b[0m                 \u001b[0mself\u001b[0m\u001b[0;34m.\u001b[0m\u001b[0m__read_detect_layout\u001b[0m\u001b[0;34m(\u001b[0m\u001b[0;34m)\u001b[0m\u001b[0;34m\u001b[0m\u001b[0;34m\u001b[0m\u001b[0m\n",
            "\u001b[0;32m/usr/local/lib/python3.7/dist-packages/frictionless/parser.py\u001b[0m in \u001b[0;36mopen\u001b[0;34m(self)\u001b[0m\n\u001b[1;32m     75\u001b[0m             \u001b[0mself\u001b[0m\u001b[0;34m.\u001b[0m\u001b[0m__loader\u001b[0m \u001b[0;34m=\u001b[0m \u001b[0mself\u001b[0m\u001b[0;34m.\u001b[0m\u001b[0mread_loader\u001b[0m\u001b[0;34m(\u001b[0m\u001b[0;34m)\u001b[0m\u001b[0;34m\u001b[0m\u001b[0;34m\u001b[0m\u001b[0m\n\u001b[0;32m---> 76\u001b[0;31m             \u001b[0mself\u001b[0m\u001b[0;34m.\u001b[0m\u001b[0m__list_stream\u001b[0m \u001b[0;34m=\u001b[0m \u001b[0mself\u001b[0m\u001b[0;34m.\u001b[0m\u001b[0mread_list_stream\u001b[0m\u001b[0;34m(\u001b[0m\u001b[0;34m)\u001b[0m\u001b[0;34m\u001b[0m\u001b[0;34m\u001b[0m\u001b[0m\n\u001b[0m\u001b[1;32m     77\u001b[0m             \u001b[0;32mreturn\u001b[0m \u001b[0mself\u001b[0m\u001b[0;34m\u001b[0m\u001b[0;34m\u001b[0m\u001b[0m\n",
            "\u001b[0;32m/usr/local/lib/python3.7/dist-packages/frictionless/parser.py\u001b[0m in \u001b[0;36mread_list_stream\u001b[0;34m(self)\u001b[0m\n\u001b[1;32m    116\u001b[0m         \u001b[0mlist_stream\u001b[0m \u001b[0;34m=\u001b[0m \u001b[0mself\u001b[0m\u001b[0;34m.\u001b[0m\u001b[0mread_list_stream_handle_errors\u001b[0m\u001b[0;34m(\u001b[0m\u001b[0mlist_stream\u001b[0m\u001b[0;34m)\u001b[0m\u001b[0;34m\u001b[0m\u001b[0;34m\u001b[0m\u001b[0m\n\u001b[0;32m--> 117\u001b[0;31m         \u001b[0;32mfor\u001b[0m \u001b[0mcells\u001b[0m \u001b[0;32min\u001b[0m \u001b[0mlist_stream\u001b[0m\u001b[0;34m:\u001b[0m\u001b[0;34m\u001b[0m\u001b[0;34m\u001b[0m\u001b[0m\n\u001b[0m\u001b[1;32m    118\u001b[0m             \u001b[0mself\u001b[0m\u001b[0;34m.\u001b[0m\u001b[0m__sample\u001b[0m\u001b[0;34m.\u001b[0m\u001b[0mappend\u001b[0m\u001b[0;34m(\u001b[0m\u001b[0mcells\u001b[0m\u001b[0;34m)\u001b[0m\u001b[0;34m\u001b[0m\u001b[0;34m\u001b[0m\u001b[0m\n",
            "\u001b[0;32m/usr/local/lib/python3.7/dist-packages/frictionless/parser.py\u001b[0m in \u001b[0;36m__next__\u001b[0;34m(self)\u001b[0m\n\u001b[1;32m    173\u001b[0m         \u001b[0;32mtry\u001b[0m\u001b[0;34m:\u001b[0m\u001b[0;34m\u001b[0m\u001b[0;34m\u001b[0m\u001b[0m\n\u001b[0;32m--> 174\u001b[0;31m             \u001b[0;32mreturn\u001b[0m \u001b[0mself\u001b[0m\u001b[0;34m.\u001b[0m\u001b[0mlist_stream\u001b[0m\u001b[0;34m.\u001b[0m\u001b[0m__next__\u001b[0m\u001b[0;34m(\u001b[0m\u001b[0;34m)\u001b[0m\u001b[0;34m\u001b[0m\u001b[0;34m\u001b[0m\u001b[0m\n\u001b[0m\u001b[1;32m    175\u001b[0m         \u001b[0;32mexcept\u001b[0m \u001b[0mStopIteration\u001b[0m\u001b[0;34m:\u001b[0m\u001b[0;34m\u001b[0m\u001b[0;34m\u001b[0m\u001b[0m\n",
            "\u001b[0;32m/usr/local/lib/python3.7/dist-packages/frictionless/plugins/inline.py\u001b[0m in \u001b[0;36mread_list_stream_create\u001b[0;34m(self)\u001b[0m\n\u001b[1;32m    142\u001b[0m         \u001b[0;32mtry\u001b[0m\u001b[0;34m:\u001b[0m\u001b[0;34m\u001b[0m\u001b[0;34m\u001b[0m\u001b[0m\n\u001b[0;32m--> 143\u001b[0;31m             \u001b[0mitem\u001b[0m \u001b[0;34m=\u001b[0m \u001b[0mnext\u001b[0m\u001b[0;34m(\u001b[0m\u001b[0mdata\u001b[0m\u001b[0;34m)\u001b[0m\u001b[0;34m\u001b[0m\u001b[0;34m\u001b[0m\u001b[0m\n\u001b[0m\u001b[1;32m    144\u001b[0m         \u001b[0;32mexcept\u001b[0m \u001b[0mStopIteration\u001b[0m\u001b[0;34m:\u001b[0m\u001b[0;34m\u001b[0m\u001b[0;34m\u001b[0m\u001b[0m\n",
            "\u001b[0;32m/usr/local/lib/python3.7/dist-packages/petl/transform/reshape.py\u001b[0m in \u001b[0;36mitertranspose\u001b[0;34m(source)\u001b[0m\n\u001b[1;32m    443\u001b[0m \u001b[0;32mdef\u001b[0m \u001b[0mitertranspose\u001b[0m\u001b[0;34m(\u001b[0m\u001b[0msource\u001b[0m\u001b[0;34m)\u001b[0m\u001b[0;34m:\u001b[0m\u001b[0;34m\u001b[0m\u001b[0;34m\u001b[0m\u001b[0m\n\u001b[0;32m--> 444\u001b[0;31m     \u001b[0mhdr\u001b[0m \u001b[0;34m=\u001b[0m \u001b[0mheader\u001b[0m\u001b[0;34m(\u001b[0m\u001b[0msource\u001b[0m\u001b[0;34m)\u001b[0m\u001b[0;34m\u001b[0m\u001b[0;34m\u001b[0m\u001b[0m\n\u001b[0m\u001b[1;32m    445\u001b[0m     \u001b[0mits\u001b[0m \u001b[0;34m=\u001b[0m \u001b[0;34m[\u001b[0m\u001b[0miter\u001b[0m\u001b[0;34m(\u001b[0m\u001b[0msource\u001b[0m\u001b[0;34m)\u001b[0m \u001b[0;32mfor\u001b[0m \u001b[0m_\u001b[0m \u001b[0;32min\u001b[0m \u001b[0mhdr\u001b[0m\u001b[0;34m]\u001b[0m\u001b[0;34m\u001b[0m\u001b[0;34m\u001b[0m\u001b[0m\n",
            "\u001b[0;32m/usr/local/lib/python3.7/dist-packages/petl/util/base.py\u001b[0m in \u001b[0;36mheader\u001b[0;34m(table)\u001b[0m\n\u001b[1;32m    335\u001b[0m     \u001b[0mit\u001b[0m \u001b[0;34m=\u001b[0m \u001b[0miter\u001b[0m\u001b[0;34m(\u001b[0m\u001b[0mtable\u001b[0m\u001b[0;34m)\u001b[0m\u001b[0;34m\u001b[0m\u001b[0;34m\u001b[0m\u001b[0m\n\u001b[0;32m--> 336\u001b[0;31m     \u001b[0;32mreturn\u001b[0m \u001b[0mtuple\u001b[0m\u001b[0;34m(\u001b[0m\u001b[0mnext\u001b[0m\u001b[0;34m(\u001b[0m\u001b[0mit\u001b[0m\u001b[0;34m)\u001b[0m\u001b[0;34m)\u001b[0m\u001b[0;34m\u001b[0m\u001b[0;34m\u001b[0m\u001b[0m\n\u001b[0m\u001b[1;32m    337\u001b[0m \u001b[0;34m\u001b[0m\u001b[0m\n",
            "\u001b[0;32m/usr/local/lib/python3.7/dist-packages/frictionless/resource.py\u001b[0m in \u001b[0;36m__iter__\u001b[0;34m(self)\u001b[0m\n\u001b[1;32m   1176\u001b[0m             \u001b[0;32mdef\u001b[0m \u001b[0m__iter__\u001b[0m\u001b[0;34m(\u001b[0m\u001b[0mself\u001b[0m\u001b[0;34m)\u001b[0m\u001b[0;34m:\u001b[0m\u001b[0;34m\u001b[0m\u001b[0;34m\u001b[0m\u001b[0m\n\u001b[0;32m-> 1177\u001b[0;31m                 \u001b[0;32mwith\u001b[0m \u001b[0mresource\u001b[0m\u001b[0;34m:\u001b[0m\u001b[0;34m\u001b[0m\u001b[0;34m\u001b[0m\u001b[0m\n\u001b[0m\u001b[1;32m   1178\u001b[0m                     \u001b[0;32mif\u001b[0m \u001b[0mnormalize\u001b[0m\u001b[0;34m:\u001b[0m\u001b[0;34m\u001b[0m\u001b[0;34m\u001b[0m\u001b[0m\n",
            "\u001b[0;32m/usr/local/lib/python3.7/dist-packages/frictionless/resource.py\u001b[0m in \u001b[0;36m__enter__\u001b[0;34m(self)\u001b[0m\n\u001b[1;32m    287\u001b[0m         \u001b[0;32mif\u001b[0m \u001b[0mself\u001b[0m\u001b[0;34m.\u001b[0m\u001b[0mclosed\u001b[0m\u001b[0;34m:\u001b[0m\u001b[0;34m\u001b[0m\u001b[0;34m\u001b[0m\u001b[0m\n\u001b[0;32m--> 288\u001b[0;31m             \u001b[0mself\u001b[0m\u001b[0;34m.\u001b[0m\u001b[0mopen\u001b[0m\u001b[0;34m(\u001b[0m\u001b[0;34m)\u001b[0m\u001b[0;34m\u001b[0m\u001b[0;34m\u001b[0m\u001b[0m\n\u001b[0m\u001b[1;32m    289\u001b[0m         \u001b[0;32mreturn\u001b[0m \u001b[0mself\u001b[0m\u001b[0;34m\u001b[0m\u001b[0;34m\u001b[0m\u001b[0m\n",
            "\u001b[0;32m/usr/local/lib/python3.7/dist-packages/frictionless/resource.py\u001b[0m in \u001b[0;36mopen\u001b[0;34m(self)\u001b[0m\n\u001b[1;32m    750\u001b[0m                 \u001b[0mself\u001b[0m\u001b[0;34m.\u001b[0m\u001b[0m__parser\u001b[0m \u001b[0;34m=\u001b[0m \u001b[0msystem\u001b[0m\u001b[0;34m.\u001b[0m\u001b[0mcreate_parser\u001b[0m\u001b[0;34m(\u001b[0m\u001b[0mself\u001b[0m\u001b[0;34m)\u001b[0m\u001b[0;34m\u001b[0m\u001b[0;34m\u001b[0m\u001b[0m\n\u001b[0;32m--> 751\u001b[0;31m                 \u001b[0mself\u001b[0m\u001b[0;34m.\u001b[0m\u001b[0m__parser\u001b[0m\u001b[0;34m.\u001b[0m\u001b[0mopen\u001b[0m\u001b[0;34m(\u001b[0m\u001b[0;34m)\u001b[0m\u001b[0;34m\u001b[0m\u001b[0;34m\u001b[0m\u001b[0m\n\u001b[0m\u001b[1;32m    752\u001b[0m                 \u001b[0mself\u001b[0m\u001b[0;34m.\u001b[0m\u001b[0m__read_detect_layout\u001b[0m\u001b[0;34m(\u001b[0m\u001b[0;34m)\u001b[0m\u001b[0;34m\u001b[0m\u001b[0;34m\u001b[0m\u001b[0m\n",
            "\u001b[0;32m/usr/local/lib/python3.7/dist-packages/frictionless/parser.py\u001b[0m in \u001b[0;36mopen\u001b[0;34m(self)\u001b[0m\n\u001b[1;32m     75\u001b[0m             \u001b[0mself\u001b[0m\u001b[0;34m.\u001b[0m\u001b[0m__loader\u001b[0m \u001b[0;34m=\u001b[0m \u001b[0mself\u001b[0m\u001b[0;34m.\u001b[0m\u001b[0mread_loader\u001b[0m\u001b[0;34m(\u001b[0m\u001b[0;34m)\u001b[0m\u001b[0;34m\u001b[0m\u001b[0;34m\u001b[0m\u001b[0m\n\u001b[0;32m---> 76\u001b[0;31m             \u001b[0mself\u001b[0m\u001b[0;34m.\u001b[0m\u001b[0m__list_stream\u001b[0m \u001b[0;34m=\u001b[0m \u001b[0mself\u001b[0m\u001b[0;34m.\u001b[0m\u001b[0mread_list_stream\u001b[0m\u001b[0;34m(\u001b[0m\u001b[0;34m)\u001b[0m\u001b[0;34m\u001b[0m\u001b[0;34m\u001b[0m\u001b[0m\n\u001b[0m\u001b[1;32m     77\u001b[0m             \u001b[0;32mreturn\u001b[0m \u001b[0mself\u001b[0m\u001b[0;34m\u001b[0m\u001b[0;34m\u001b[0m\u001b[0m\n",
            "\u001b[0;32m/usr/local/lib/python3.7/dist-packages/frictionless/parser.py\u001b[0m in \u001b[0;36mread_list_stream\u001b[0;34m(self)\u001b[0m\n\u001b[1;32m    116\u001b[0m         \u001b[0mlist_stream\u001b[0m \u001b[0;34m=\u001b[0m \u001b[0mself\u001b[0m\u001b[0;34m.\u001b[0m\u001b[0mread_list_stream_handle_errors\u001b[0m\u001b[0;34m(\u001b[0m\u001b[0mlist_stream\u001b[0m\u001b[0;34m)\u001b[0m\u001b[0;34m\u001b[0m\u001b[0;34m\u001b[0m\u001b[0m\n\u001b[0;32m--> 117\u001b[0;31m         \u001b[0;32mfor\u001b[0m \u001b[0mcells\u001b[0m \u001b[0;32min\u001b[0m \u001b[0mlist_stream\u001b[0m\u001b[0;34m:\u001b[0m\u001b[0;34m\u001b[0m\u001b[0;34m\u001b[0m\u001b[0m\n\u001b[0m\u001b[1;32m    118\u001b[0m             \u001b[0mself\u001b[0m\u001b[0;34m.\u001b[0m\u001b[0m__sample\u001b[0m\u001b[0;34m.\u001b[0m\u001b[0mappend\u001b[0m\u001b[0;34m(\u001b[0m\u001b[0mcells\u001b[0m\u001b[0;34m)\u001b[0m\u001b[0;34m\u001b[0m\u001b[0;34m\u001b[0m\u001b[0m\n",
            "\u001b[0;32m/usr/local/lib/python3.7/dist-packages/frictionless/parser.py\u001b[0m in \u001b[0;36m__next__\u001b[0;34m(self)\u001b[0m\n\u001b[1;32m    173\u001b[0m         \u001b[0;32mtry\u001b[0m\u001b[0;34m:\u001b[0m\u001b[0;34m\u001b[0m\u001b[0;34m\u001b[0m\u001b[0m\n\u001b[0;32m--> 174\u001b[0;31m             \u001b[0;32mreturn\u001b[0m \u001b[0mself\u001b[0m\u001b[0;34m.\u001b[0m\u001b[0mlist_stream\u001b[0m\u001b[0;34m.\u001b[0m\u001b[0m__next__\u001b[0m\u001b[0;34m(\u001b[0m\u001b[0;34m)\u001b[0m\u001b[0;34m\u001b[0m\u001b[0;34m\u001b[0m\u001b[0m\n\u001b[0m\u001b[1;32m    175\u001b[0m         \u001b[0;32mexcept\u001b[0m \u001b[0mStopIteration\u001b[0m\u001b[0;34m:\u001b[0m\u001b[0;34m\u001b[0m\u001b[0;34m\u001b[0m\u001b[0m\n",
            "\u001b[0;32m/usr/local/lib/python3.7/dist-packages/frictionless/plugins/inline.py\u001b[0m in \u001b[0;36mread_list_stream_create\u001b[0;34m(self)\u001b[0m\n\u001b[1;32m    142\u001b[0m         \u001b[0;32mtry\u001b[0m\u001b[0;34m:\u001b[0m\u001b[0;34m\u001b[0m\u001b[0;34m\u001b[0m\u001b[0m\n\u001b[0;32m--> 143\u001b[0;31m             \u001b[0mitem\u001b[0m \u001b[0;34m=\u001b[0m \u001b[0mnext\u001b[0m\u001b[0;34m(\u001b[0m\u001b[0mdata\u001b[0m\u001b[0;34m)\u001b[0m\u001b[0;34m\u001b[0m\u001b[0;34m\u001b[0m\u001b[0m\n\u001b[0m\u001b[1;32m    144\u001b[0m         \u001b[0;32mexcept\u001b[0m \u001b[0mStopIteration\u001b[0m\u001b[0;34m:\u001b[0m\u001b[0;34m\u001b[0m\u001b[0;34m\u001b[0m\u001b[0m\n",
            "\u001b[0;32m/usr/local/lib/python3.7/dist-packages/frictionless/transform/resource.py\u001b[0m in \u001b[0;36m__iter__\u001b[0;34m(self)\u001b[0m\n\u001b[1;32m     91\u001b[0m             \u001b[0merror\u001b[0m \u001b[0;34m=\u001b[0m \u001b[0merrors\u001b[0m\u001b[0;34m.\u001b[0m\u001b[0mStepError\u001b[0m\u001b[0;34m(\u001b[0m\u001b[0mnote\u001b[0m\u001b[0;34m=\u001b[0m\u001b[0;34mf'\"{get_name(self.step)}\" raises \"{exception}\"'\u001b[0m\u001b[0;34m)\u001b[0m\u001b[0;34m\u001b[0m\u001b[0;34m\u001b[0m\u001b[0m\n\u001b[0;32m---> 92\u001b[0;31m             \u001b[0;32mraise\u001b[0m \u001b[0mFrictionlessException\u001b[0m\u001b[0;34m(\u001b[0m\u001b[0merror\u001b[0m\u001b[0;34m)\u001b[0m \u001b[0;32mfrom\u001b[0m \u001b[0mexception\u001b[0m\u001b[0;34m\u001b[0m\u001b[0;34m\u001b[0m\u001b[0m\n\u001b[0m",
            "\u001b[0;31mFrictionlessException\u001b[0m: [step-error] Step is not valid: \"table_normalize\" raises \"'NoneType' object has no attribute 'to_list'\"",
            "\nThe above exception was the direct cause of the following exception:\n",
            "\u001b[0;31mFrictionlessException\u001b[0m                     Traceback (most recent call last)",
            "\u001b[0;32m<ipython-input-150-4a5e074a073a>\u001b[0m in \u001b[0;36m<module>\u001b[0;34m()\u001b[0m\n\u001b[1;32m      7\u001b[0m     steps=[\n\u001b[1;32m      8\u001b[0m         \u001b[0msteps\u001b[0m\u001b[0;34m.\u001b[0m\u001b[0mtable_normalize\u001b[0m\u001b[0;34m(\u001b[0m\u001b[0;34m)\u001b[0m\u001b[0;34m,\u001b[0m\u001b[0;34m\u001b[0m\u001b[0;34m\u001b[0m\u001b[0m\n\u001b[0;32m----> 9\u001b[0;31m         \u001b[0msteps\u001b[0m\u001b[0;34m.\u001b[0m\u001b[0mtable_transpose\u001b[0m\u001b[0;34m(\u001b[0m\u001b[0;34m)\u001b[0m\u001b[0;34m,\u001b[0m\u001b[0;34m\u001b[0m\u001b[0;34m\u001b[0m\u001b[0m\n\u001b[0m\u001b[1;32m     10\u001b[0m     ]\n\u001b[1;32m     11\u001b[0m )\n",
            "\u001b[0;32m/usr/local/lib/python3.7/dist-packages/frictionless/transform/main.py\u001b[0m in \u001b[0;36mtransform\u001b[0;34m(source, type, **options)\u001b[0m\n\u001b[1;32m     33\u001b[0m         \u001b[0mnote\u001b[0m \u001b[0;34m=\u001b[0m \u001b[0;34mf\"Not supported transform type: {type}\"\u001b[0m\u001b[0;34m\u001b[0m\u001b[0;34m\u001b[0m\u001b[0m\n\u001b[1;32m     34\u001b[0m         \u001b[0;32mraise\u001b[0m \u001b[0mFrictionlessException\u001b[0m\u001b[0;34m(\u001b[0m\u001b[0merrors\u001b[0m\u001b[0;34m.\u001b[0m\u001b[0mGeneralError\u001b[0m\u001b[0;34m(\u001b[0m\u001b[0mnote\u001b[0m\u001b[0;34m=\u001b[0m\u001b[0mnote\u001b[0m\u001b[0;34m)\u001b[0m\u001b[0;34m)\u001b[0m\u001b[0;34m\u001b[0m\u001b[0;34m\u001b[0m\u001b[0m\n\u001b[0;32m---> 35\u001b[0;31m     \u001b[0;32mreturn\u001b[0m \u001b[0mtransform\u001b[0m\u001b[0;34m(\u001b[0m\u001b[0msource\u001b[0m\u001b[0;34m,\u001b[0m \u001b[0;34m**\u001b[0m\u001b[0moptions\u001b[0m\u001b[0;34m)\u001b[0m\u001b[0;34m\u001b[0m\u001b[0;34m\u001b[0m\u001b[0m\n\u001b[0m",
            "\u001b[0;32m/usr/local/lib/python3.7/dist-packages/frictionless/transform/resource.py\u001b[0m in \u001b[0;36mtransform_resource\u001b[0;34m(source, steps, **options)\u001b[0m\n\u001b[1;32m     52\u001b[0m         \u001b[0;32mexcept\u001b[0m \u001b[0mException\u001b[0m \u001b[0;32mas\u001b[0m \u001b[0mexception\u001b[0m\u001b[0;34m:\u001b[0m\u001b[0;34m\u001b[0m\u001b[0;34m\u001b[0m\u001b[0m\n\u001b[1;32m     53\u001b[0m             \u001b[0merror\u001b[0m \u001b[0;34m=\u001b[0m \u001b[0merrors\u001b[0m\u001b[0;34m.\u001b[0m\u001b[0mStepError\u001b[0m\u001b[0;34m(\u001b[0m\u001b[0mnote\u001b[0m\u001b[0;34m=\u001b[0m\u001b[0;34mf'\"{get_name(step)}\" raises \"{exception}\"'\u001b[0m\u001b[0;34m)\u001b[0m\u001b[0;34m\u001b[0m\u001b[0;34m\u001b[0m\u001b[0m\n\u001b[0;32m---> 54\u001b[0;31m             \u001b[0;32mraise\u001b[0m \u001b[0mFrictionlessException\u001b[0m\u001b[0;34m(\u001b[0m\u001b[0merror\u001b[0m\u001b[0;34m)\u001b[0m \u001b[0;32mfrom\u001b[0m \u001b[0mexception\u001b[0m\u001b[0;34m\u001b[0m\u001b[0;34m\u001b[0m\u001b[0m\n\u001b[0m\u001b[1;32m     55\u001b[0m \u001b[0;34m\u001b[0m\u001b[0m\n\u001b[1;32m     56\u001b[0m         \u001b[0;31m# Postprocess\u001b[0m\u001b[0;34m\u001b[0m\u001b[0;34m\u001b[0m\u001b[0;34m\u001b[0m\u001b[0m\n",
            "\u001b[0;31mFrictionlessException\u001b[0m: [step-error] Step is not valid: \"table_transpose\" raises \"[step-error] Step is not valid: \"table_normalize\" raises \"'NoneType' object has no attribute 'to_list'\"\""
          ]
        }
      ]
    },
    {
      "cell_type": "code",
      "metadata": {
        "colab": {
          "base_uri": "https://localhost:8080/"
        },
        "id": "ozx0AwnFYsyz",
        "outputId": "4956ac36-bde7-46a3-ad1a-eb3f230a6b62"
      },
      "source": [
        "from pprint import pprint\n",
        "from frictionless import Package, Resource, transform, steps\n",
        "\n",
        "source = Resource(path=\"https://ws.cso.ie/public/api.restful/PxStat.Data.Cube_API.PxAPIv1/en/6/TORTV/THA18\")\n",
        "target = transform(\n",
        "    source,\n",
        "   steps=[\n",
        "        steps.cell_set(field_name=\"Statistic\", value=\"bad\"),\n",
        "        steps.table_validate(),\n",
        "    ]\n",
        ")\n",
        "pprint(target.schema)\n",
        "try:\n",
        "  pprint(target.read_rows())\n",
        "except Exception as exception:\n",
        "  pprint(exception)"
      ],
      "execution_count": 148,
      "outputs": [
        {
          "output_type": "stream",
          "text": [
            "{}\n",
            "FrictionlessException('[step-error] Step is not valid: \"cell_set\" raises \"\\'NoneType\\' object has no attribute \\'missing\\'\"')\n"
          ],
          "name": "stdout"
        }
      ]
    },
    {
      "cell_type": "code",
      "metadata": {
        "id": "d79Ort7LZ1_U",
        "colab": {
          "base_uri": "https://localhost:8080/"
        },
        "outputId": "4976f3b9-3265-4038-ad89-e4a170edd303"
      },
      "source": [
        "source = Resource(path=\"https://ws.cso.ie/public/api.restful/PxStat.Data.Cube_API.PxAPIv1/en/6/TORTV/THA18\")\n",
        "target = transform(\n",
        "    source,\n",
        "    steps=[\n",
        "      steps.table_debug(function=print),\n",
        "    ],\n",
        ")\n",
        "pprint(target)"
      ],
      "execution_count": 149,
      "outputs": [
        {
          "output_type": "stream",
          "text": [
            "{'data': <frictionless.transform.resource.DataWithErrorHandling object at 0x7f249f786bd0>,\n",
            " 'format': 'inline',\n",
            " 'name': 'tha18',\n",
            " 'profile': 'data-resource',\n",
            " 'scheme': ''}\n"
          ],
          "name": "stdout"
        }
      ]
    },
    {
      "cell_type": "code",
      "metadata": {
        "colab": {
          "base_uri": "https://localhost:8080/"
        },
        "id": "HPCzsXs6BShv",
        "outputId": "78be0355-846d-44e4-c6fd-a05012bca6bc"
      },
      "source": [
        "from pprint import pprint\n",
        "from frictionless import Package, Resource, transform, steps\n",
        "\n",
        "source = Package(resources=[Resource(name='main', path=\"https://ws.cso.ie/public/api.restful/PxStat.Data.Cube_API.PxAPIv1/en/6/TORTV/THA18\")])\n",
        "target = transform(\n",
        "    source,\n",
        "    steps=[\n",
        "        steps.resource_add(name='extra', path='https://ws.cso.ie/public/api.restful/PxStat.Data.Cube_API.PxAPIv1/en/6/TORTV/THA18'),\n",
        "    ],\n",
        ")\n",
        "pprint(target.resource_names)\n",
        "pprint(target.get_resource('extra').schema)\n",
        "#pprint(target.get_resource('extra').read_rows())"
      ],
      "execution_count": 151,
      "outputs": [
        {
          "output_type": "stream",
          "text": [
            "['main', 'extra']\n",
            "{}\n"
          ],
          "name": "stdout"
        }
      ]
    },
    {
      "cell_type": "code",
      "metadata": {
        "colab": {
          "base_uri": "https://localhost:8080/"
        },
        "id": "fu4RwLpkA8rS",
        "outputId": "12fee660-3632-4e6a-d204-ce25878843e0"
      },
      "source": [
        "from pprint import pprint\n",
        "from frictionless import Package, Resource, transform, steps\n",
        "\n",
        "source = Package(resources=[Resource(name='main', path=\"https://ws.cso.ie/public/api.restful/PxStat.Data.Cube_API.PxAPIv1/en/6/TORTV/THA18\")])\n",
        "target = transform(\n",
        "    source,\n",
        "    steps=[\n",
        "        steps.resource_add(name='extra', path='https://ws.cso.ie/public/api.restful/PxStat.Data.Cube_API.PxAPIv1/en/6/TORTV/THA18'),\n",
        "        steps.resource_transform(name='main', steps=[\n",
        "            steps.table_merge(resource='extra'),\n",
        "            steps.row_sort(field_names=['Statistic'])\n",
        "        ]),\n",
        "        steps.resource_remove(name=\"extra\"),\n",
        "    ],\n",
        ")\n",
        "pprint(target.resource_names)\n",
        "pprint(target.get_resource('main').schema)\n",
        "#pprint(target.get_resource('main').read_rows())"
      ],
      "execution_count": 152,
      "outputs": [
        {
          "output_type": "stream",
          "text": [
            "['main']\n",
            "{}\n"
          ],
          "name": "stdout"
        }
      ]
    },
    {
      "cell_type": "code",
      "metadata": {
        "colab": {
          "base_uri": "https://localhost:8080/"
        },
        "id": "ci1bZrxzSkFt",
        "outputId": "8539ffbe-d617-41a8-bea6-6b7b2dbdcaac"
      },
      "source": [
        "from pprint import pprint\n",
        "from frictionless import Package, Resource, transform, steps\n",
        "\n",
        "source = Resource(path=\"https://ws.cso.ie/public/api.restful/PxStat.Data.Cube_API.PxAPIv1/en/6/TORTV/THA18\")\n",
        "target = transform(\n",
        "    source,\n",
        "    steps=[\n",
        "        steps.field_filter(names=[\"Year\", \"County of Ownership\"]),\n",
        "    ]\n",
        ")\n",
        "pprint(target.schema)\n",
        "#pprint(target.read_rows())"
      ],
      "execution_count": 155,
      "outputs": [
        {
          "output_type": "stream",
          "text": [
            "{}\n"
          ],
          "name": "stdout"
        }
      ]
    },
    {
      "cell_type": "code",
      "metadata": {
        "colab": {
          "base_uri": "https://localhost:8080/",
          "height": 438
        },
        "id": "oDAMlJieSqAp",
        "outputId": "87b26e29-ed88-41ac-830d-16015b499af1"
      },
      "source": [
        "from pprint import pprint\n",
        "from frictionless import Package, Resource, transform, steps\n",
        "\n",
        "source = Resource(path=\"https://ws.cso.ie/public/api.restful/PxStat.Data.Cube_API.PxAPIv1/en/6/TORTV/THA18\")\n",
        "target = transform(\n",
        "    source,\n",
        "    steps=[\n",
        "        steps.field_move(name=\"Statistic\", position=2),\n",
        "    ]\n",
        ")\n",
        "pprint(target.schema)\n",
        "pprint(target.read_rows())"
      ],
      "execution_count": 157,
      "outputs": [
        {
          "output_type": "error",
          "ename": "FrictionlessException",
          "evalue": "ignored",
          "traceback": [
            "\u001b[0;31m---------------------------------------------------------------------------\u001b[0m",
            "\u001b[0;31mFrictionlessException\u001b[0m                     Traceback (most recent call last)",
            "\u001b[0;32m/usr/local/lib/python3.7/dist-packages/frictionless/transform/resource.py\u001b[0m in \u001b[0;36mtransform_resource\u001b[0;34m(source, steps, **options)\u001b[0m\n\u001b[1;32m     50\u001b[0m         \u001b[0;32mtry\u001b[0m\u001b[0;34m:\u001b[0m\u001b[0;34m\u001b[0m\u001b[0;34m\u001b[0m\u001b[0m\n\u001b[0;32m---> 51\u001b[0;31m             \u001b[0mstep\u001b[0m\u001b[0;34m.\u001b[0m\u001b[0mtransform_resource\u001b[0m\u001b[0;34m(\u001b[0m\u001b[0mresource\u001b[0m\u001b[0;34m)\u001b[0m\u001b[0;34m\u001b[0m\u001b[0;34m\u001b[0m\u001b[0m\n\u001b[0m\u001b[1;32m     52\u001b[0m         \u001b[0;32mexcept\u001b[0m \u001b[0mException\u001b[0m \u001b[0;32mas\u001b[0m \u001b[0mexception\u001b[0m\u001b[0;34m:\u001b[0m\u001b[0;34m\u001b[0m\u001b[0;34m\u001b[0m\u001b[0m\n",
            "\u001b[0;32m/usr/local/lib/python3.7/dist-packages/frictionless/steps/field.py\u001b[0m in \u001b[0;36mtransform_resource\u001b[0;34m(self, resource)\u001b[0m\n\u001b[1;32m    125\u001b[0m         \u001b[0mposition\u001b[0m \u001b[0;34m=\u001b[0m \u001b[0mself\u001b[0m\u001b[0;34m.\u001b[0m\u001b[0mget\u001b[0m\u001b[0;34m(\u001b[0m\u001b[0;34m\"position\"\u001b[0m\u001b[0;34m)\u001b[0m\u001b[0;34m\u001b[0m\u001b[0;34m\u001b[0m\u001b[0m\n\u001b[0;32m--> 126\u001b[0;31m         \u001b[0mfield\u001b[0m \u001b[0;34m=\u001b[0m \u001b[0mresource\u001b[0m\u001b[0;34m.\u001b[0m\u001b[0mschema\u001b[0m\u001b[0;34m.\u001b[0m\u001b[0mremove_field\u001b[0m\u001b[0;34m(\u001b[0m\u001b[0mname\u001b[0m\u001b[0;34m)\u001b[0m\u001b[0;34m\u001b[0m\u001b[0;34m\u001b[0m\u001b[0m\n\u001b[0m\u001b[1;32m    127\u001b[0m         \u001b[0mresource\u001b[0m\u001b[0;34m.\u001b[0m\u001b[0mschema\u001b[0m\u001b[0;34m.\u001b[0m\u001b[0mfields\u001b[0m\u001b[0;34m.\u001b[0m\u001b[0minsert\u001b[0m\u001b[0;34m(\u001b[0m\u001b[0mposition\u001b[0m \u001b[0;34m-\u001b[0m \u001b[0;36m1\u001b[0m\u001b[0;34m,\u001b[0m \u001b[0mfield\u001b[0m\u001b[0;34m)\u001b[0m\u001b[0;34m\u001b[0m\u001b[0;34m\u001b[0m\u001b[0m\n",
            "\u001b[0;32m/usr/local/lib/python3.7/dist-packages/frictionless/schema.py\u001b[0m in \u001b[0;36mremove_field\u001b[0;34m(self, name)\u001b[0m\n\u001b[1;32m    171\u001b[0m         \"\"\"\n\u001b[0;32m--> 172\u001b[0;31m         \u001b[0mfield\u001b[0m \u001b[0;34m=\u001b[0m \u001b[0mself\u001b[0m\u001b[0;34m.\u001b[0m\u001b[0mget_field\u001b[0m\u001b[0;34m(\u001b[0m\u001b[0mname\u001b[0m\u001b[0;34m)\u001b[0m\u001b[0;34m\u001b[0m\u001b[0;34m\u001b[0m\u001b[0m\n\u001b[0m\u001b[1;32m    173\u001b[0m         \u001b[0mself\u001b[0m\u001b[0;34m.\u001b[0m\u001b[0mfields\u001b[0m\u001b[0;34m.\u001b[0m\u001b[0mremove\u001b[0m\u001b[0;34m(\u001b[0m\u001b[0mfield\u001b[0m\u001b[0;34m)\u001b[0m\u001b[0;34m\u001b[0m\u001b[0;34m\u001b[0m\u001b[0m\n",
            "\u001b[0;32m/usr/local/lib/python3.7/dist-packages/frictionless/schema.py\u001b[0m in \u001b[0;36mget_field\u001b[0;34m(self, name)\u001b[0m\n\u001b[1;32m    141\u001b[0m         \u001b[0merror\u001b[0m \u001b[0;34m=\u001b[0m \u001b[0merrors\u001b[0m\u001b[0;34m.\u001b[0m\u001b[0mSchemaError\u001b[0m\u001b[0;34m(\u001b[0m\u001b[0mnote\u001b[0m\u001b[0;34m=\u001b[0m\u001b[0;34mf'field \"{name}\" does not exist'\u001b[0m\u001b[0;34m)\u001b[0m\u001b[0;34m\u001b[0m\u001b[0;34m\u001b[0m\u001b[0m\n\u001b[0;32m--> 142\u001b[0;31m         \u001b[0;32mraise\u001b[0m \u001b[0mFrictionlessException\u001b[0m\u001b[0;34m(\u001b[0m\u001b[0merror\u001b[0m\u001b[0;34m)\u001b[0m\u001b[0;34m\u001b[0m\u001b[0;34m\u001b[0m\u001b[0m\n\u001b[0m\u001b[1;32m    143\u001b[0m \u001b[0;34m\u001b[0m\u001b[0m\n",
            "\u001b[0;31mFrictionlessException\u001b[0m: [schema-error] Schema is not valid: field \"Statistic\" does not exist",
            "\nThe above exception was the direct cause of the following exception:\n",
            "\u001b[0;31mFrictionlessException\u001b[0m                     Traceback (most recent call last)",
            "\u001b[0;32m<ipython-input-157-45cfac9bd929>\u001b[0m in \u001b[0;36m<module>\u001b[0;34m()\u001b[0m\n\u001b[1;32m      6\u001b[0m     \u001b[0msource\u001b[0m\u001b[0;34m,\u001b[0m\u001b[0;34m\u001b[0m\u001b[0;34m\u001b[0m\u001b[0m\n\u001b[1;32m      7\u001b[0m     steps=[\n\u001b[0;32m----> 8\u001b[0;31m         \u001b[0msteps\u001b[0m\u001b[0;34m.\u001b[0m\u001b[0mfield_move\u001b[0m\u001b[0;34m(\u001b[0m\u001b[0mname\u001b[0m\u001b[0;34m=\u001b[0m\u001b[0;34m\"Statistic\"\u001b[0m\u001b[0;34m,\u001b[0m \u001b[0mposition\u001b[0m\u001b[0;34m=\u001b[0m\u001b[0;36m2\u001b[0m\u001b[0;34m)\u001b[0m\u001b[0;34m,\u001b[0m\u001b[0;34m\u001b[0m\u001b[0;34m\u001b[0m\u001b[0m\n\u001b[0m\u001b[1;32m      9\u001b[0m     ]\n\u001b[1;32m     10\u001b[0m )\n",
            "\u001b[0;32m/usr/local/lib/python3.7/dist-packages/frictionless/transform/main.py\u001b[0m in \u001b[0;36mtransform\u001b[0;34m(source, type, **options)\u001b[0m\n\u001b[1;32m     33\u001b[0m         \u001b[0mnote\u001b[0m \u001b[0;34m=\u001b[0m \u001b[0;34mf\"Not supported transform type: {type}\"\u001b[0m\u001b[0;34m\u001b[0m\u001b[0;34m\u001b[0m\u001b[0m\n\u001b[1;32m     34\u001b[0m         \u001b[0;32mraise\u001b[0m \u001b[0mFrictionlessException\u001b[0m\u001b[0;34m(\u001b[0m\u001b[0merrors\u001b[0m\u001b[0;34m.\u001b[0m\u001b[0mGeneralError\u001b[0m\u001b[0;34m(\u001b[0m\u001b[0mnote\u001b[0m\u001b[0;34m=\u001b[0m\u001b[0mnote\u001b[0m\u001b[0;34m)\u001b[0m\u001b[0;34m)\u001b[0m\u001b[0;34m\u001b[0m\u001b[0;34m\u001b[0m\u001b[0m\n\u001b[0;32m---> 35\u001b[0;31m     \u001b[0;32mreturn\u001b[0m \u001b[0mtransform\u001b[0m\u001b[0;34m(\u001b[0m\u001b[0msource\u001b[0m\u001b[0;34m,\u001b[0m \u001b[0;34m**\u001b[0m\u001b[0moptions\u001b[0m\u001b[0;34m)\u001b[0m\u001b[0;34m\u001b[0m\u001b[0;34m\u001b[0m\u001b[0m\n\u001b[0m",
            "\u001b[0;32m/usr/local/lib/python3.7/dist-packages/frictionless/transform/resource.py\u001b[0m in \u001b[0;36mtransform_resource\u001b[0;34m(source, steps, **options)\u001b[0m\n\u001b[1;32m     52\u001b[0m         \u001b[0;32mexcept\u001b[0m \u001b[0mException\u001b[0m \u001b[0;32mas\u001b[0m \u001b[0mexception\u001b[0m\u001b[0;34m:\u001b[0m\u001b[0;34m\u001b[0m\u001b[0;34m\u001b[0m\u001b[0m\n\u001b[1;32m     53\u001b[0m             \u001b[0merror\u001b[0m \u001b[0;34m=\u001b[0m \u001b[0merrors\u001b[0m\u001b[0;34m.\u001b[0m\u001b[0mStepError\u001b[0m\u001b[0;34m(\u001b[0m\u001b[0mnote\u001b[0m\u001b[0;34m=\u001b[0m\u001b[0;34mf'\"{get_name(step)}\" raises \"{exception}\"'\u001b[0m\u001b[0;34m)\u001b[0m\u001b[0;34m\u001b[0m\u001b[0;34m\u001b[0m\u001b[0m\n\u001b[0;32m---> 54\u001b[0;31m             \u001b[0;32mraise\u001b[0m \u001b[0mFrictionlessException\u001b[0m\u001b[0;34m(\u001b[0m\u001b[0merror\u001b[0m\u001b[0;34m)\u001b[0m \u001b[0;32mfrom\u001b[0m \u001b[0mexception\u001b[0m\u001b[0;34m\u001b[0m\u001b[0;34m\u001b[0m\u001b[0m\n\u001b[0m\u001b[1;32m     55\u001b[0m \u001b[0;34m\u001b[0m\u001b[0m\n\u001b[1;32m     56\u001b[0m         \u001b[0;31m# Postprocess\u001b[0m\u001b[0;34m\u001b[0m\u001b[0;34m\u001b[0m\u001b[0;34m\u001b[0m\u001b[0m\n",
            "\u001b[0;31mFrictionlessException\u001b[0m: [step-error] Step is not valid: \"field_move\" raises \"[schema-error] Schema is not valid: field \"Statistic\" does not exist\""
          ]
        }
      ]
    },
    {
      "cell_type": "code",
      "metadata": {
        "colab": {
          "base_uri": "https://localhost:8080/",
          "height": 438
        },
        "id": "C98ChX9WSwps",
        "outputId": "74969287-1620-446f-b5b3-81bf5aba6235"
      },
      "source": [
        "from pprint import pprint\n",
        "from frictionless import Package, Resource, transform, steps\n",
        "\n",
        "source = Resource(path=\"https://ws.cso.ie/public/api.restful/PxStat.Data.Cube_API.PxAPIv1/en/6/TORTV/THA18\")\n",
        "target = transform(\n",
        "    source,\n",
        "    steps=[\n",
        "        steps.field_split(name=\"Type of Ownership\", to_names=[\"Male\", \"Female\"], pattern=\"a\"),\n",
        "    ]\n",
        ")\n",
        "pprint(target.schema)\n",
        "pprint(target.read_rows())"
      ],
      "execution_count": 158,
      "outputs": [
        {
          "output_type": "error",
          "ename": "FrictionlessException",
          "evalue": "ignored",
          "traceback": [
            "\u001b[0;31m---------------------------------------------------------------------------\u001b[0m",
            "\u001b[0;31mFrictionlessException\u001b[0m                     Traceback (most recent call last)",
            "\u001b[0;32m/usr/local/lib/python3.7/dist-packages/frictionless/transform/resource.py\u001b[0m in \u001b[0;36mtransform_resource\u001b[0;34m(source, steps, **options)\u001b[0m\n\u001b[1;32m     50\u001b[0m         \u001b[0;32mtry\u001b[0m\u001b[0;34m:\u001b[0m\u001b[0;34m\u001b[0m\u001b[0;34m\u001b[0m\u001b[0m\n\u001b[0;32m---> 51\u001b[0;31m             \u001b[0mstep\u001b[0m\u001b[0;34m.\u001b[0m\u001b[0mtransform_resource\u001b[0m\u001b[0;34m(\u001b[0m\u001b[0mresource\u001b[0m\u001b[0;34m)\u001b[0m\u001b[0;34m\u001b[0m\u001b[0;34m\u001b[0m\u001b[0m\n\u001b[0m\u001b[1;32m     52\u001b[0m         \u001b[0;32mexcept\u001b[0m \u001b[0mException\u001b[0m \u001b[0;32mas\u001b[0m \u001b[0mexception\u001b[0m\u001b[0;34m:\u001b[0m\u001b[0;34m\u001b[0m\u001b[0;34m\u001b[0m\u001b[0m\n",
            "\u001b[0;32m/usr/local/lib/python3.7/dist-packages/frictionless/steps/field.py\u001b[0m in \u001b[0;36mtransform_resource\u001b[0;34m(self, resource)\u001b[0m\n\u001b[1;32m    201\u001b[0m         \u001b[0;32mif\u001b[0m \u001b[0;32mnot\u001b[0m \u001b[0mpreserve\u001b[0m\u001b[0;34m:\u001b[0m\u001b[0;34m\u001b[0m\u001b[0;34m\u001b[0m\u001b[0m\n\u001b[0;32m--> 202\u001b[0;31m             \u001b[0mresource\u001b[0m\u001b[0;34m.\u001b[0m\u001b[0mschema\u001b[0m\u001b[0;34m.\u001b[0m\u001b[0mremove_field\u001b[0m\u001b[0;34m(\u001b[0m\u001b[0mname\u001b[0m\u001b[0;34m)\u001b[0m\u001b[0;34m\u001b[0m\u001b[0;34m\u001b[0m\u001b[0m\n\u001b[0m\u001b[1;32m    203\u001b[0m         \u001b[0mprocessor\u001b[0m \u001b[0;34m=\u001b[0m \u001b[0mpetl\u001b[0m\u001b[0;34m.\u001b[0m\u001b[0msplit\u001b[0m\u001b[0;34m\u001b[0m\u001b[0;34m\u001b[0m\u001b[0m\n",
            "\u001b[0;32m/usr/local/lib/python3.7/dist-packages/frictionless/schema.py\u001b[0m in \u001b[0;36mremove_field\u001b[0;34m(self, name)\u001b[0m\n\u001b[1;32m    171\u001b[0m         \"\"\"\n\u001b[0;32m--> 172\u001b[0;31m         \u001b[0mfield\u001b[0m \u001b[0;34m=\u001b[0m \u001b[0mself\u001b[0m\u001b[0;34m.\u001b[0m\u001b[0mget_field\u001b[0m\u001b[0;34m(\u001b[0m\u001b[0mname\u001b[0m\u001b[0;34m)\u001b[0m\u001b[0;34m\u001b[0m\u001b[0;34m\u001b[0m\u001b[0m\n\u001b[0m\u001b[1;32m    173\u001b[0m         \u001b[0mself\u001b[0m\u001b[0;34m.\u001b[0m\u001b[0mfields\u001b[0m\u001b[0;34m.\u001b[0m\u001b[0mremove\u001b[0m\u001b[0;34m(\u001b[0m\u001b[0mfield\u001b[0m\u001b[0;34m)\u001b[0m\u001b[0;34m\u001b[0m\u001b[0;34m\u001b[0m\u001b[0m\n",
            "\u001b[0;32m/usr/local/lib/python3.7/dist-packages/frictionless/schema.py\u001b[0m in \u001b[0;36mget_field\u001b[0;34m(self, name)\u001b[0m\n\u001b[1;32m    141\u001b[0m         \u001b[0merror\u001b[0m \u001b[0;34m=\u001b[0m \u001b[0merrors\u001b[0m\u001b[0;34m.\u001b[0m\u001b[0mSchemaError\u001b[0m\u001b[0;34m(\u001b[0m\u001b[0mnote\u001b[0m\u001b[0;34m=\u001b[0m\u001b[0;34mf'field \"{name}\" does not exist'\u001b[0m\u001b[0;34m)\u001b[0m\u001b[0;34m\u001b[0m\u001b[0;34m\u001b[0m\u001b[0m\n\u001b[0;32m--> 142\u001b[0;31m         \u001b[0;32mraise\u001b[0m \u001b[0mFrictionlessException\u001b[0m\u001b[0;34m(\u001b[0m\u001b[0merror\u001b[0m\u001b[0;34m)\u001b[0m\u001b[0;34m\u001b[0m\u001b[0;34m\u001b[0m\u001b[0m\n\u001b[0m\u001b[1;32m    143\u001b[0m \u001b[0;34m\u001b[0m\u001b[0m\n",
            "\u001b[0;31mFrictionlessException\u001b[0m: [schema-error] Schema is not valid: field \"Type of Ownership\" does not exist",
            "\nThe above exception was the direct cause of the following exception:\n",
            "\u001b[0;31mFrictionlessException\u001b[0m                     Traceback (most recent call last)",
            "\u001b[0;32m<ipython-input-158-b28b81dc3ab3>\u001b[0m in \u001b[0;36m<module>\u001b[0;34m()\u001b[0m\n\u001b[1;32m      6\u001b[0m     \u001b[0msource\u001b[0m\u001b[0;34m,\u001b[0m\u001b[0;34m\u001b[0m\u001b[0;34m\u001b[0m\u001b[0m\n\u001b[1;32m      7\u001b[0m     steps=[\n\u001b[0;32m----> 8\u001b[0;31m         \u001b[0msteps\u001b[0m\u001b[0;34m.\u001b[0m\u001b[0mfield_split\u001b[0m\u001b[0;34m(\u001b[0m\u001b[0mname\u001b[0m\u001b[0;34m=\u001b[0m\u001b[0;34m\"Type of Ownership\"\u001b[0m\u001b[0;34m,\u001b[0m \u001b[0mto_names\u001b[0m\u001b[0;34m=\u001b[0m\u001b[0;34m[\u001b[0m\u001b[0;34m\"Male\"\u001b[0m\u001b[0;34m,\u001b[0m \u001b[0;34m\"Female\"\u001b[0m\u001b[0;34m]\u001b[0m\u001b[0;34m,\u001b[0m \u001b[0mpattern\u001b[0m\u001b[0;34m=\u001b[0m\u001b[0;34m\"a\"\u001b[0m\u001b[0;34m)\u001b[0m\u001b[0;34m,\u001b[0m\u001b[0;34m\u001b[0m\u001b[0;34m\u001b[0m\u001b[0m\n\u001b[0m\u001b[1;32m      9\u001b[0m     ]\n\u001b[1;32m     10\u001b[0m )\n",
            "\u001b[0;32m/usr/local/lib/python3.7/dist-packages/frictionless/transform/main.py\u001b[0m in \u001b[0;36mtransform\u001b[0;34m(source, type, **options)\u001b[0m\n\u001b[1;32m     33\u001b[0m         \u001b[0mnote\u001b[0m \u001b[0;34m=\u001b[0m \u001b[0;34mf\"Not supported transform type: {type}\"\u001b[0m\u001b[0;34m\u001b[0m\u001b[0;34m\u001b[0m\u001b[0m\n\u001b[1;32m     34\u001b[0m         \u001b[0;32mraise\u001b[0m \u001b[0mFrictionlessException\u001b[0m\u001b[0;34m(\u001b[0m\u001b[0merrors\u001b[0m\u001b[0;34m.\u001b[0m\u001b[0mGeneralError\u001b[0m\u001b[0;34m(\u001b[0m\u001b[0mnote\u001b[0m\u001b[0;34m=\u001b[0m\u001b[0mnote\u001b[0m\u001b[0;34m)\u001b[0m\u001b[0;34m)\u001b[0m\u001b[0;34m\u001b[0m\u001b[0;34m\u001b[0m\u001b[0m\n\u001b[0;32m---> 35\u001b[0;31m     \u001b[0;32mreturn\u001b[0m \u001b[0mtransform\u001b[0m\u001b[0;34m(\u001b[0m\u001b[0msource\u001b[0m\u001b[0;34m,\u001b[0m \u001b[0;34m**\u001b[0m\u001b[0moptions\u001b[0m\u001b[0;34m)\u001b[0m\u001b[0;34m\u001b[0m\u001b[0;34m\u001b[0m\u001b[0m\n\u001b[0m",
            "\u001b[0;32m/usr/local/lib/python3.7/dist-packages/frictionless/transform/resource.py\u001b[0m in \u001b[0;36mtransform_resource\u001b[0;34m(source, steps, **options)\u001b[0m\n\u001b[1;32m     52\u001b[0m         \u001b[0;32mexcept\u001b[0m \u001b[0mException\u001b[0m \u001b[0;32mas\u001b[0m \u001b[0mexception\u001b[0m\u001b[0;34m:\u001b[0m\u001b[0;34m\u001b[0m\u001b[0;34m\u001b[0m\u001b[0m\n\u001b[1;32m     53\u001b[0m             \u001b[0merror\u001b[0m \u001b[0;34m=\u001b[0m \u001b[0merrors\u001b[0m\u001b[0;34m.\u001b[0m\u001b[0mStepError\u001b[0m\u001b[0;34m(\u001b[0m\u001b[0mnote\u001b[0m\u001b[0;34m=\u001b[0m\u001b[0;34mf'\"{get_name(step)}\" raises \"{exception}\"'\u001b[0m\u001b[0;34m)\u001b[0m\u001b[0;34m\u001b[0m\u001b[0;34m\u001b[0m\u001b[0m\n\u001b[0;32m---> 54\u001b[0;31m             \u001b[0;32mraise\u001b[0m \u001b[0mFrictionlessException\u001b[0m\u001b[0;34m(\u001b[0m\u001b[0merror\u001b[0m\u001b[0;34m)\u001b[0m \u001b[0;32mfrom\u001b[0m \u001b[0mexception\u001b[0m\u001b[0;34m\u001b[0m\u001b[0;34m\u001b[0m\u001b[0m\n\u001b[0m\u001b[1;32m     55\u001b[0m \u001b[0;34m\u001b[0m\u001b[0m\n\u001b[1;32m     56\u001b[0m         \u001b[0;31m# Postprocess\u001b[0m\u001b[0;34m\u001b[0m\u001b[0;34m\u001b[0m\u001b[0;34m\u001b[0m\u001b[0m\n",
            "\u001b[0;31mFrictionlessException\u001b[0m: [step-error] Step is not valid: \"field_split\" raises \"[schema-error] Schema is not valid: field \"Type of Ownership\" does not exist\""
          ]
        }
      ]
    },
    {
      "cell_type": "code",
      "metadata": {
        "id": "4BTlz-rtH9E2"
      },
      "source": [
        "from frictionless import Parser\n",
        "\n",
        "class HtmlParser(Parser):\n",
        "    requires_loader = True\n",
        "    supported_types = [\n",
        "        \"string\",\n",
        "    ]\n",
        "\n",
        "    # Read\n",
        "\n",
        "    def read_list_stream_create(self):\n",
        "        pq = helpers.import_from_plugin(\"pyquery\", plugin=\"html\").PyQuery\n",
        "        dialect = self.resource.dialect\n",
        "\n",
        "        # Get Page content\n",
        "        page = pq(self.loader.text_stream.read(), parser=\"html\")\n",
        "\n",
        "        # Find required table\n",
        "        if dialect.selector:\n",
        "            table = pq(page.find(dialect.selector)[0])\n",
        "        else:\n",
        "            table = page\n",
        "\n",
        "        # Stream headers\n",
        "        data = (\n",
        "            table.children(\"thead\").children(\"tr\")\n",
        "            + table.children(\"thead\")\n",
        "            + table.children(\"tr\")\n",
        "            + table.children(\"tbody\").children(\"tr\")\n",
        "        )\n",
        "        data = [pq(r) for r in data if len(r) > 0]\n",
        "        first_row = data.pop(0)\n",
        "        headers = [pq(th).text() for th in first_row.find(\"th,td\")]\n",
        "        yield headers\n",
        "\n",
        "        # Stream data\n",
        "        data = [pq(tr).find(\"td\") for tr in data]\n",
        "        data = [[pq(td).text() for td in tr] for tr in data if len(tr) > 0]\n",
        "        yield from data\n",
        "\n",
        "    # Write\n",
        "\n",
        "    def write_row_stream(self, resource):\n",
        "        source = resource\n",
        "        target = self.resource\n",
        "        html = \"<html><body><table>\\n\"\n",
        "        with source:\n",
        "            for row in source.row_stream:\n",
        "                if row.row_number == 1:\n",
        "                    html += \"<tr>\"\n",
        "                    for name in row.field_names:\n",
        "                        html += f\"<td>{name}</td>\"\n",
        "                    html += \"</tr>\\n\"\n",
        "                cells = row.to_list(types=self.supported_types)\n",
        "                html += \"<tr>\"\n",
        "                for cell in cells:\n",
        "                    html += f\"<td>{cell}</td>\"\n",
        "                html += \"</tr>\\n\"\n",
        "        html += \"</table></body></html>\"\n",
        "        with tempfile.NamedTemporaryFile(\"wt\", delete=False) as file:\n",
        "            file.write(html)\n",
        "        loader = system.create_loader(target)\n",
        "        result = loader.write_byte_stream(file.name)\n",
        "        return result\n",
        "        pprint(target)"
      ],
      "execution_count": 159,
      "outputs": []
    },
    {
      "cell_type": "code",
      "metadata": {
        "id": "qtvHYVfzIBST",
        "colab": {
          "base_uri": "https://localhost:8080/"
        },
        "outputId": "b57e5965-2357-4af5-e309-ebe2314bfe10"
      },
      "source": [
        "from frictionless import Dialect, Metadata\n",
        "\n",
        "class HtmlDialect(Dialect):\n",
        "\n",
        "    def __init__(self, descriptor=None, *, selector=None):\n",
        "        self.setinitial(\"selector\", selector)\n",
        "        super().__init__(descriptor)\n",
        "\n",
        "    @Metadata.property\n",
        "    def selector(self):\n",
        "        \"\"\"\n",
        "        Returns:\n",
        "            str: selector\n",
        "        \"\"\"\n",
        "        return self.get(\"selector\", \"table\")\n",
        "\n",
        "    # Expand\n",
        "\n",
        "    def expand(self):\n",
        "        \"\"\"Expand metadata\"\"\"\n",
        "        self.setdefault(\"selector\", self.selector)\n",
        "\n",
        "    # Metadata\n",
        "\n",
        "    metadata_profile = {  # type: ignore\n",
        "        \"type\": \"object\",\n",
        "        \"additionalProperties\": False,\n",
        "        \"properties\": {\n",
        "            \"selector\": {\"type\": \"string\"},\n",
        "        },\n",
        "    }\n",
        "    pprint(metadata_profile)"
      ],
      "execution_count": 162,
      "outputs": [
        {
          "output_type": "stream",
          "text": [
            "{'additionalProperties': False,\n",
            " 'properties': {'selector': {'type': 'string'}},\n",
            " 'type': 'object'}\n"
          ],
          "name": "stdout"
        }
      ]
    },
    {
      "cell_type": "code",
      "metadata": {
        "id": "d1Cb-Q-BK7Mk",
        "colab": {
          "base_uri": "https://localhost:8080/"
        },
        "outputId": "3cfb76ff-fae4-4d1e-a2e3-a66d5c89e0a9"
      },
      "source": [
        "import os.path\n",
        "from frictionless import Resource\n",
        "resource = Resource(df)\n",
        "from frictionless.plugins.excel import ExcelDialect\n",
        "resource.write(\"File.xlsx\", dialect=ExcelDialect(sheet='My Table'))\n",
        "#export to location"
      ],
      "execution_count": 161,
      "outputs": [
        {
          "output_type": "execute_result",
          "data": {
            "text/plain": [
              "{'dialect': {'sheet': 'My Table'}, 'path': 'File.xlsx'}"
            ]
          },
          "metadata": {
            "tags": []
          },
          "execution_count": 161
        }
      ]
    }
  ]
}